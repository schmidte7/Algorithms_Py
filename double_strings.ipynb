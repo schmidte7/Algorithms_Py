{
 "cells": [
  {
   "cell_type": "code",
   "execution_count": 3,
   "metadata": {},
   "outputs": [
    {
     "name": "stdout",
     "output_type": "stream",
     "text": [
      "[abs][abs][abs][abs]\n"
     ]
    }
   ],
   "source": [
    "def double_string(s, level):\n",
    "  if level == 0: # If level only is 0...\n",
    "    return s # Return the string\n",
    "  return double_string(s + s, level-1) # \"else\" add the strings together and do that *level-1 times\n",
    "\n",
    "def main():\n",
    "    s = \"[abs]\"\n",
    "    level = 2\n",
    "    print(double_string(s,level))\n",
    "if __name__==\"__main__\":\n",
    "    main()"
   ]
  }
 ],
 "metadata": {
  "kernelspec": {
   "display_name": "Python 3",
   "language": "python",
   "name": "python3"
  },
  "language_info": {
   "codemirror_mode": {
    "name": "ipython",
    "version": 3
   },
   "file_extension": ".py",
   "mimetype": "text/x-python",
   "name": "python",
   "nbconvert_exporter": "python",
   "pygments_lexer": "ipython3",
   "version": "3.11.7"
  }
 },
 "nbformat": 4,
 "nbformat_minor": 2
}
