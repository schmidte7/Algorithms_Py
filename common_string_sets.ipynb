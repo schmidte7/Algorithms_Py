{
 "cells": [
  {
   "cell_type": "code",
   "execution_count": 1,
   "metadata": {},
   "outputs": [
    {
     "name": "stdout",
     "output_type": "stream",
     "text": [
      "{'to', 'at', 'her', 'arrived', 'office'}\n"
     ]
    }
   ],
   "source": [
    "def commmonStrings(A, B, C):\n",
    "    result = set() # Create an empty set\n",
    "\n",
    "    A_lower = set() # Create empty set for list A\n",
    "    for e in A: # Iterate through the list\n",
    "        A_lower.add(e.lower()) # Add the lowercased words into the set (does not contain duplicates)\n",
    "\n",
    "    B_lower = set() # Create empty set for list B\n",
    "    for e in B: # Iterate through the list\n",
    "        B_lower.add(e.lower()) # Add the lowercased words into the set (does not contain duplicates)\n",
    "\n",
    "    C_lower = set() # Create empty set for list C\n",
    "    for e in C: # Iterate through the list\n",
    "        C_lower.add(e.lower()) # Add the lowercased words into the set (does not contain duplicates)\n",
    "\n",
    "    # Similiar to 5.2 with lists but these are sets\n",
    "    # Check what is in A/B or A/C\n",
    "    for itemA in A_lower: # Iterate through the new set of words in A_lower\n",
    "        if (itemA in B_lower) or (itemA in C_lower): # Compare A_lower to B_lower and A_lower to C_lower (do not need () )\n",
    "            result.add(itemA) # Add result of itemA to result (set)\n",
    "\n",
    "    for itemB in B_lower: # Iterate through the new set of words in B_lower\n",
    "        if itemB in C_lower: # Compare B_lower to C_lower\n",
    "            result.add(itemB) # Add result of itemB to result (set)\n",
    "\n",
    "    return result\n",
    "\n",
    "def main():\n",
    "    A = [\"I\", \"went\", \"to\", \"her\", \"office\"]\n",
    "    B = [\"My\", \"cousin\", \"Mary\", \"arrived\", \"at\", \"her\", \"apartment\"]\n",
    "    C = [\"Joseph\", \"Arrived\", \"at\", \"9am\", \"to\", \"his\", \"office\"]\n",
    "    print(commmonStrings(A, B, C))\n",
    "if __name__==\"__main__\":\n",
    "    main()"
   ]
  }
 ],
 "metadata": {
  "kernelspec": {
   "display_name": "Python 3",
   "language": "python",
   "name": "python3"
  },
  "language_info": {
   "codemirror_mode": {
    "name": "ipython",
    "version": 3
   },
   "file_extension": ".py",
   "mimetype": "text/x-python",
   "name": "python",
   "nbconvert_exporter": "python",
   "pygments_lexer": "ipython3",
   "version": "3.11.7"
  }
 },
 "nbformat": 4,
 "nbformat_minor": 2
}
