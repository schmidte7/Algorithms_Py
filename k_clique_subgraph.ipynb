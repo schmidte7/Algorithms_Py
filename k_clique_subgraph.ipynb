{
 "cells": [
  {
   "cell_type": "code",
   "execution_count": 1,
   "metadata": {},
   "outputs": [
    {
     "name": "stdout",
     "output_type": "stream",
     "text": [
      "\n",
      "subGraph [is 4-clique] =  {'c', 'b', 'd', 'a'}\n",
      "---> check_k_clique(subGraph, k=4, g=g3) =  True\n"
     ]
    }
   ],
   "source": [
    "def check_k_clique(subGraph, k, g) :\n",
    "\n",
    "    if k != len(subGraph): # If k and the length of subgraph do not equal,\n",
    "        return False # Return False (did not find the clique)\n",
    "    else: # If the length of subgraph and k are equal... continue\n",
    "        for a in subGraph: # Iterate through each node in the subgraph (a, b, c)\n",
    "            nodes_of_a = g[a] # Start with a and grab its values from the dictionary (b, c)\n",
    "\n",
    "            for b in subGraph: # Iterate through the second node of the subgraph\n",
    "                if a != b and b not in nodes_of_a: # If a is not equal to b and b in not included in a's values...\n",
    "                    return False # Return False\n",
    "\n",
    "        return True # Return True\n",
    "\n",
    "\n",
    "def main():\n",
    "    g = {'a': {'b', 'c', 'd'},\n",
    "          'b': {'a', 'c', 'd', 'f'},\n",
    "          'c': {'a', 'b', 'd'},\n",
    "          'd': {'a', 'b', 'c'},\n",
    "          'e': {'f', 'g'},\n",
    "          'f': {'b', 'e', 'f'},\n",
    "          'g': {'e', 'f'}}\n",
    "\n",
    "    #print(\"\\ng3 = \", g3)\n",
    "\n",
    "    subGraph={'a', 'b', 'c','d'}\n",
    "    k=4\n",
    "    print(\"\\nsubGraph [is \"+str(k)+\"-clique] = \", subGraph)\n",
    "    print(\"---> check_k_clique(subGraph, k=\"+str(k)+\", g=g3) = \", check_k_clique(subGraph, k, g))\n",
    "\n",
    "if __name__==\"__main__\":\n",
    "    main()"
   ]
  }
 ],
 "metadata": {
  "kernelspec": {
   "display_name": "Python 3",
   "language": "python",
   "name": "python3"
  },
  "language_info": {
   "codemirror_mode": {
    "name": "ipython",
    "version": 3
   },
   "file_extension": ".py",
   "mimetype": "text/x-python",
   "name": "python",
   "nbconvert_exporter": "python",
   "pygments_lexer": "ipython3",
   "version": "3.11.7"
  }
 },
 "nbformat": 4,
 "nbformat_minor": 2
}
