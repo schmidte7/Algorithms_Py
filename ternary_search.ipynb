{
 "cells": [
  {
   "cell_type": "code",
   "execution_count": 1,
   "metadata": {},
   "outputs": [
    {
     "name": "stdout",
     "output_type": "stream",
     "text": [
      "True\n"
     ]
    }
   ],
   "source": [
    "import numpy\n",
    "def ternary_search(a, x):\n",
    "    low = 0\n",
    "    high = len(a) - 1\n",
    "    while low <= high:\n",
    "        mid1 = low + (high - low) // 3\n",
    "        mid2 = high - (high - low) // 3\n",
    "        if a[mid1] == x:\n",
    "            return True\n",
    "        elif a[mid2] == x:\n",
    "            return True\n",
    "        elif x < a[mid1]:\n",
    "            high = mid1 - 1\n",
    "        elif x > a[mid2]:\n",
    "            low = mid2 + 1\n",
    "        else:\n",
    "            low = mid1 + 1\n",
    "            high = mid2 - 1\n",
    "    return False\n",
    "\n",
    "def main():\n",
    "\n",
    "    a = numpy.array([1,3,4,5,2,9,10,11])\n",
    "    value = 11\n",
    "    print(ternary_search(a,value))\n",
    "\n",
    "if __name__==\"__main__\":\n",
    "    main()"
   ]
  }
 ],
 "metadata": {
  "kernelspec": {
   "display_name": "Python 3",
   "language": "python",
   "name": "python3"
  },
  "language_info": {
   "codemirror_mode": {
    "name": "ipython",
    "version": 3
   },
   "file_extension": ".py",
   "mimetype": "text/x-python",
   "name": "python",
   "nbconvert_exporter": "python",
   "pygments_lexer": "ipython3",
   "version": "3.11.7"
  }
 },
 "nbformat": 4,
 "nbformat_minor": 2
}
