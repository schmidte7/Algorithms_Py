{
 "cells": [
  {
   "cell_type": "code",
   "execution_count": 1,
   "metadata": {},
   "outputs": [
    {
     "name": "stdout",
     "output_type": "stream",
     "text": [
      "\n",
      "person_to_age =  {'Mary': 25, 'Karl': 35, 'James': 20, 'Stacy': 25, 'Johanna': 37, 'Ari': 35}\n",
      "---> inverse_dictionary(person_to_age) =  {25: {'Stacy', 'Mary'}, 35: {'Ari', 'Karl'}, 20: {'James'}, 37: {'Johanna'}}\n"
     ]
    }
   ],
   "source": [
    "def inverse_dictionary(person_to_age):\n",
    "\n",
    "    age_to_people = dict() # Create new dictionary\n",
    "\n",
    "    for person, age in person_to_age.items(): # Iterate through the first dictionary\n",
    "        if age in age_to_people: # If the new key is in the new dictionary\n",
    "            people = age_to_people[age] # Set the values to people and key is age\n",
    "            people.add(person) # Add to the set that is created below\n",
    "        else: # If age is not in the new dictionary\n",
    "            age_to_people[age] = set([person]) # Add the key and value as a set to add mutliple, no dupe people\n",
    "                                               # Remember to use ([]) for sets!!!!\n",
    "    return age_to_people\n",
    "\n",
    "def main():\n",
    "    person_to_age = {\"Mary\": 25, \"Karl\": 35, \"James\": 20, \"Stacy\": 25, \"Johanna\": 37, \"Ari\": 35}\n",
    "    print(\"\\nperson_to_age = \", person_to_age)\n",
    "    print(\"---> inverse_dictionary(person_to_age) = \", inverse_dictionary(person_to_age))\n",
    "\n",
    "if __name__ == \"__main__\":\n",
    "    main()"
   ]
  }
 ],
 "metadata": {
  "kernelspec": {
   "display_name": "Python 3",
   "language": "python",
   "name": "python3"
  },
  "language_info": {
   "codemirror_mode": {
    "name": "ipython",
    "version": 3
   },
   "file_extension": ".py",
   "mimetype": "text/x-python",
   "name": "python",
   "nbconvert_exporter": "python",
   "pygments_lexer": "ipython3",
   "version": "3.11.7"
  }
 },
 "nbformat": 4,
 "nbformat_minor": 2
}
