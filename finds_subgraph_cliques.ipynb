{
 "cells": [
  {
   "cell_type": "code",
   "execution_count": 1,
   "metadata": {},
   "outputs": [
    {
     "name": "stdout",
     "output_type": "stream",
     "text": [
      "False\n",
      "True\n"
     ]
    }
   ],
   "source": [
    "def is_clique(graph, sn):\n",
    "    for node1 in sn: # {e, g, f} --> e\n",
    "        #print(\"node1\",node1)\n",
    "        for node2 in sn: # {e, g, f} --> f\n",
    "            #print(\"node2\",node2)\n",
    "            if node1 != node2 and node2 not in graph[node1]: # If node2 (f) not in {g, f)\n",
    "                    return False\n",
    "    return True\n",
    "\n",
    "graph = {'a': {'b', 'c', 'd'},\n",
    "     'b': {'a', 'c', 'd', 'f'},\n",
    "     'c': {'a', 'b', 'd'},\n",
    "     'd': {'a', 'b', 'c'},\n",
    "     'e': {'g', 'f'},\n",
    "     'g': {'e', 'f'},\n",
    "     'f': {'e', 'g'}}\n",
    "\n",
    "sn = ['e', 'g', 'b']\n",
    "print(is_clique(graph, sn))  # prints False\n",
    "\n",
    "sn = ['a', 'b', 'c']\n",
    "print(is_clique(graph, sn))  # prints True"
   ]
  }
 ],
 "metadata": {
  "kernelspec": {
   "display_name": "Python 3",
   "language": "python",
   "name": "python3"
  },
  "language_info": {
   "codemirror_mode": {
    "name": "ipython",
    "version": 3
   },
   "file_extension": ".py",
   "mimetype": "text/x-python",
   "name": "python",
   "nbconvert_exporter": "python",
   "pygments_lexer": "ipython3",
   "version": "3.11.7"
  }
 },
 "nbformat": 4,
 "nbformat_minor": 2
}
