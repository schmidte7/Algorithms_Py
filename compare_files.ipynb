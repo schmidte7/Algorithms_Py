{
 "cells": [
  {
   "cell_type": "code",
   "execution_count": 1,
   "metadata": {},
   "outputs": [
    {
     "name": "stdout",
     "output_type": "stream",
     "text": [
      "\n",
      "----------------------------- Test 1 (same content) ----------------------------------\n",
      "file_path1 =  file1.txt\n",
      "file_path2 =  file2.txt\n",
      "---> same_files(file_path1, file_path2) =  True\n",
      "\n",
      "----------------------------- Test 2 (different content) ----------------------------------\n",
      "file_path1 =  file1.txt\n",
      "file_path2 =  file3.txt\n",
      "---> same_files(file_path1, file_path2) =  True\n"
     ]
    }
   ],
   "source": [
    "# Create three files named file1, file2, and file3 for the code to properly work.\n",
    "\n",
    "def same_files(file_path1, file_path2, encoding = 'utf-8'):\n",
    "\n",
    "    with open(file_path1, mode = 'r', encoding=encoding) as f1, open(file_path2, mode = \"r\", encoding = encoding) as f2: # Open each file1 and file2\n",
    "\n",
    "        ExitLoop = False # Set statement to False if iterating through file, else True\n",
    "        while not ExitLoop: # Use while loop because you are dealing with different lenghts (while iterating through...)\n",
    "            line1 = f1.readline() # Iterate through file1\n",
    "            line2 = f2.readline() # Iterate through file2\n",
    "            end_of_file1 = bool(line1) # If the end of file1 is reached, True\n",
    "            end_of_file2 = bool(line2) # If the end of file2 is reached, True\n",
    "\n",
    "            if not end_of_file1 and not end_of_file2: # Not at the end of either file\n",
    "                if line1 != line2: # If their lines are not equal...\n",
    "                    return False\n",
    "            elif end_of_file1 and end_of_file2: # Reached the end of the file and not comparable, exit the loop\n",
    "                return True # Need to use ExitLoop since we use 'return True' later\n",
    "            else:\n",
    "                return False # If one of the files is different lengths, return False\n",
    "    return True # Both files are 100% comparable\n",
    "\n",
    "def main():\n",
    "    print(\"\\n----------------------------- Test 1 (same content) ----------------------------------\")\n",
    "    file_path1 = \"file1.txt\"\n",
    "    file_path2 = \"file2.txt\"\n",
    "    print(\"file_path1 = \", file_path1)\n",
    "    print(\"file_path2 = \", file_path2)\n",
    "    print(\"---> same_files(file_path1, file_path2) = \", same_files(file_path1, file_path2))\n",
    "\n",
    "    print(\"\\n----------------------------- Test 2 (different content) ----------------------------------\")\n",
    "    file_path1 = \"file1.txt\"\n",
    "    file_path2 = \"file3.txt\"\n",
    "    print(\"file_path1 = \", file_path1)\n",
    "    print(\"file_path2 = \", file_path2)\n",
    "    print(\"---> same_files(file_path1, file_path2) = \", same_files(file_path1, file_path2))\n",
    "\n",
    "if __name__ == \"__main__\":\n",
    "    main()"
   ]
  }
 ],
 "metadata": {
  "kernelspec": {
   "display_name": "Python 3",
   "language": "python",
   "name": "python3"
  },
  "language_info": {
   "codemirror_mode": {
    "name": "ipython",
    "version": 3
   },
   "file_extension": ".py",
   "mimetype": "text/x-python",
   "name": "python",
   "nbconvert_exporter": "python",
   "pygments_lexer": "ipython3",
   "version": "3.11.7"
  }
 },
 "nbformat": 4,
 "nbformat_minor": 2
}
