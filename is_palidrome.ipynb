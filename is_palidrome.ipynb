{
 "cells": [
  {
   "cell_type": "code",
   "execution_count": 3,
   "metadata": {},
   "outputs": [
    {
     "name": "stdout",
     "output_type": "stream",
     "text": [
      "True\n"
     ]
    }
   ],
   "source": [
    "def isPalidrome(s, start, end):\n",
    "\n",
    "    if start < 0 or end >= len(s) or start > end:\n",
    "        raise Exception(\"One of the inputs is incorrect!\")\n",
    "    else:\n",
    "        a = start # Starting position begins at specified value in main(), start assigns a value to a (3)\n",
    "        b = end # Ending position begins at specified value in main(), end assigns a value to b (6)\n",
    "\n",
    "        while a < b: # a must be smaller than b since reading left to right\n",
    "            if s[a] != s[b]: # If those positions are not the same letter\n",
    "                return False # Return False\n",
    "            else: # If those two letters are the same\n",
    "                a+= 1 # Increase a by one\n",
    "                b-= 1 # Decrease b by one\n",
    "        return True # Return True if all letters match\n",
    "\n",
    "def main():\n",
    "    s = \"heolloway\"\n",
    "    start = 2\n",
    "    end = 5\n",
    "    print(isPalidrome(s, start, end))\n",
    "\n",
    "if __name__==\"__main__\":\n",
    "    main()"
   ]
  }
 ],
 "metadata": {
  "kernelspec": {
   "display_name": "Python 3",
   "language": "python",
   "name": "python3"
  },
  "language_info": {
   "codemirror_mode": {
    "name": "ipython",
    "version": 3
   },
   "file_extension": ".py",
   "mimetype": "text/x-python",
   "name": "python",
   "nbconvert_exporter": "python",
   "pygments_lexer": "ipython3",
   "version": "3.11.7"
  }
 },
 "nbformat": 4,
 "nbformat_minor": 2
}
