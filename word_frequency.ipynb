{
 "cells": [
  {
   "cell_type": "code",
   "execution_count": 1,
   "metadata": {},
   "outputs": [
    {
     "name": "stdout",
     "output_type": "stream",
     "text": [
      "({'a': 8, 'linear': 9, 'function': 6, 'is': 3, 'each': 1, 'has': 1, 'straight': 1, 'line': 1, 'graph': 1, 'the': 1, 'addition': 1, 'of': 2, 'and': 1, 'another': 1, 'in': 1, 'algebra': 1, 'map': 1}, {'and', 'in', 'straight', 'graph', 'line', 'the', 'has', 'map', 'each', 'algebra', 'addition', 'another'}, ['of'], ['a', 'linear', 'function', 'is'])\n"
     ]
    }
   ],
   "source": [
    "def appears_many(word_list):\n",
    "\n",
    "    word_dictionary = dict() # Create an empty dictionary\n",
    "    word_list_lower = [] # Create an empty list for the lowercased words\n",
    "\n",
    "    for word in word_list: # Iterate through the original word list\n",
    "        word_list_lower.append(word.lower()) # Lowercase all the words for equal comparison, append to new list\n",
    "\n",
    "    for word in word_list_lower: # Iterate through the lowercased words\n",
    "        if word not in word_dictionary: # If the words/values are not in the dictionary\n",
    "            word_dictionary[word] = 1 # Add the word and a value of 1\n",
    "        else: # If the word/value already exists...\n",
    "            word_dictionary[word] = word_dictionary[word] + 1 # Add one to the value\n",
    "\n",
    "    appears_once = set() # Create an empty set (no order or duplicates)\n",
    "    for key, value in word_dictionary.items():  # Iterate through the dictionary\n",
    "        if value == 1: # Set a threshold with the value\n",
    "            appears_once.add(key) # Add those respective keys into the set\n",
    "\n",
    "    appears_twice = [] # Create an empty list\n",
    "    for key, value in word_dictionary.items(): # Iterate through the dictionary\n",
    "        if value == 2: # Set a threshold with the value\n",
    "            appears_twice.append(key) # Append the key associated with the value into the list\n",
    "\n",
    "    appears_most_often = [] # Create an empty list\n",
    "    for key, value in word_dictionary.items(): # Iterate through the dictionary\n",
    "        if value >= 3: # Set a threshold with the value\n",
    "            appears_most_often.append(key) # Append the key associated with the value into the list\n",
    "\n",
    "    return word_dictionary, appears_once, appears_twice, appears_most_often\n",
    "\n",
    "def main():\n",
    "    word_list = [\"a\", \"linear\", \"function\", \"is\", \"a\", \"function\",\n",
    "           \"Each\", \"linear\", \"function\", \"has\", \"a\", \"straight\", \"line\",\n",
    "           \"graph\", \"The\", \"addition\", \"of\", \"a\", \"linear\", \"of\", \"a\",\n",
    "           \"linear\", \"function\", \"and\", \"another\", \"linear\", \"function\",\n",
    "           \"is\", \"linear\", \"In\", \"linear\", \"algebra\", \"a\", \"linear\",\n",
    "           \"function\", \"is\", \"a\", \"linear\", \"map\", \"a\"]\n",
    "    print(appears_many(word_list))\n",
    "\n",
    "if __name__==\"__main__\":\n",
    "    main()"
   ]
  }
 ],
 "metadata": {
  "kernelspec": {
   "display_name": "Python 3",
   "language": "python",
   "name": "python3"
  },
  "language_info": {
   "codemirror_mode": {
    "name": "ipython",
    "version": 3
   },
   "file_extension": ".py",
   "mimetype": "text/x-python",
   "name": "python",
   "nbconvert_exporter": "python",
   "pygments_lexer": "ipython3",
   "version": "3.11.7"
  }
 },
 "nbformat": 4,
 "nbformat_minor": 2
}
