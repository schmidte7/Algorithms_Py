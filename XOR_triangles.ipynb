{
 "cells": [
  {
   "cell_type": "code",
   "execution_count": 2,
   "metadata": {},
   "outputs": [
    {
     "name": "stdout",
     "output_type": "stream",
     "text": [
      "k=3: [1, 1]\n",
      "k=3: [1, 0, 1]\n",
      "k=3: [1, 1, 1, 1]\n",
      "k=5: [1, 0, 0, 0, 1]\n",
      "k=5: [1, 0, 0, 0, 1]\n"
     ]
    }
   ],
   "source": [
    "def p2(k: int) -> list[int] :\n",
    "\n",
    "    row = [1] # Create list with first position (0) as 1 (this will be overwritten each time the second loop runs by nextrow)\n",
    "    for i in range(2, k+1): # If k = 5 (which is set), for range 2:k includes 2, 3, 4. Need to do k+1 to start at 2 and include 5. i = 2\n",
    "        nextrow = [1] # Position 0, will add other numbers in the second for loop\n",
    "        for j in range(1, i-1): # (\"get to\" i = k) Always start at position 1 and go to i-1. For example, if i=5, there will be three\n",
    "                                # positions that need to be looped (1, 2, 3), 0 already = 1 and 4 will = 1 in a later step\n",
    "            nextrow.append((row[j-1]+row[j]) % 2) # For position j-1 and j in row (look prior). Add them togeher, if they\n",
    "                                                  # are divisable by 2, then append 0 else 1 to the nextrow\n",
    "        nextrow.append(1) # Append 1 to the end of the list\n",
    "        row = nextrow # Set nextrow = row so that it 'saves' row for the i iterator to create the following row\n",
    "    return nextrow # or row\n",
    "\n",
    "def p(k: int) -> list[int]:\n",
    "\n",
    "    row = [1] # Create list with position 0 as 1\n",
    "    for i in range(k-1): # Iterate through k (given)\n",
    "        row = [row[j] ^ row[j + 1] for j in range(len(row) - 1)]\n",
    "        row = [1] + row + [1]\n",
    "    return row\n",
    "\n",
    "print(f'k=3: {p2(2)}')\n",
    "print(f'k=3: {p2(3)}')\n",
    "print(f'k=3: {p2(4)}')\n",
    "print(f'k=5: {p2(5)}')\n",
    "print(f'k=5: {p(5)}')"
   ]
  }
 ],
 "metadata": {
  "kernelspec": {
   "display_name": "Python 3",
   "language": "python",
   "name": "python3"
  },
  "language_info": {
   "codemirror_mode": {
    "name": "ipython",
    "version": 3
   },
   "file_extension": ".py",
   "mimetype": "text/x-python",
   "name": "python",
   "nbconvert_exporter": "python",
   "pygments_lexer": "ipython3",
   "version": "3.11.7"
  }
 },
 "nbformat": 4,
 "nbformat_minor": 2
}
