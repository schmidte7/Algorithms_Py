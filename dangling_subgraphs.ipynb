{
 "cells": [
  {
   "cell_type": "code",
   "execution_count": 1,
   "metadata": {},
   "outputs": [
    {
     "name": "stdout",
     "output_type": "stream",
     "text": [
      "test with g={'a': {'c', 'b'}, 'b': {'c', 'a'}, 'c': {'a', 'h', 'b', 'd'}, 'd': {'c', 'e', 'i'}, 'e': {'f', 'd', 'g'}, 'f': {'g', 'e'}, 'g': {'f', 'e'}, 'h': {'c', 'k', 'i'}, 'i': {'d', 'k', 'h'}, 'j': {'l', 'm'}, 'k': {'m', 'h', 'i'}, 'l': {'m', 'j'}, 'm': {'k', 'l', 'j'}}\n",
      "False\n",
      "False\n",
      "True\n",
      "\n"
     ]
    }
   ],
   "source": [
    "def is_dangling_triangle_free(g: dict[str, set[str]]) -> bool :\n",
    "\n",
    "    triangleSub_list = [] # Create an empty list to store subgraphs\n",
    "\n",
    "    for x, nodes_of_x in g.items(): # Iterate through the dictionary for key (a) and values (a,b,c)\n",
    "        for y in nodes_of_x: # Choose another value inside of a values (b)\n",
    "            if x !=y: # If a and b are not equal... (do not want to loop over itself)\n",
    "                nodes_of_y = g[y] # Pull the values from the dictionary for the b key and its values (a, c)\n",
    "                for z in nodes_of_y: # Loop through the last key (c)\n",
    "                    if z in nodes_of_x and z !=x and z!=y: # If c is in the values of x and does not equal a and b...\n",
    "                        triangleSub = {x,y,z} # Create a subgraph value with those three keys (can also use list but will be repetitive)\n",
    "                        if triangleSub not in triangleSub_list: # Check to see if that triangleSub is already in the list\n",
    "                            triangleSub_list.append(triangleSub) # If it is not, append to the over list for an output\n",
    "                            if len(g[x])+len(g[y])+len(g[z]) == 7: #Remark: if {a,b,c} is a dangling triangle, no. neigbours of a + no. neighbours of b + no. neighbours of c is exactly 7.\n",
    "                                return False\n",
    "    return True\n",
    "\n",
    "def is_dangling_triangle_free2(g: dict[str, set[str]]) -> bool :\n",
    "    for n1 in g: # Iterates over all nodes in the graph\n",
    "        for n2 in g[n1].difference(set([n1])): # For each node, iterates over neighors and used to get the set of neighbors that are not in the current node (n1 compared to n2)\n",
    "            for n3 in g[n2].difference(set([n1,n2])): # For each node, iterates over neighors and used to get the set of neighbors that are not in the current node (n1 and n2 compared to n3)\n",
    "                if n1 in g[n3]: # If node 1 is in n3's values\n",
    "                    # n1,n2,n3 is a triangle\n",
    "                    if len(g[n1])+len(g[n2])+len(g[n3]) == 7: # The length of the nodes values = 7 (b,c) + (a,c) + (a,b,d)\n",
    "                        # this is a dangling triangle\n",
    "                        return False # If the triangle has a dangle...\n",
    "    return True # If the triangle does not have a dangle...\n",
    "\n",
    "# Exactly one neighbor, not related to dangling triangles\n",
    "def is_dangling_triangle_free3(g: dict[str, set[str]]) -> bool :\n",
    "    # Iterate over all nodes in the graph\n",
    "    for node in g:\n",
    "        # Check if the node has exactly one neighbor\n",
    "        if len(g[node]) == 1:\n",
    "            # Get the neighbor\n",
    "            neighbor = next(iter(g[node]))\n",
    "            # Check if the neighbor also has exactly one neighbor\n",
    "            if len(g[neighbor]) == 1:\n",
    "                # If both nodes have exactly one neighbor, then they form a dangling triangle\n",
    "                return False\n",
    "    # If no dangling triangles were found, return True\n",
    "    return True\n",
    "\n",
    "g = {'a': {'b','c'}, 'b':{'a','c'},'c': {'a','b','d','h'}, 'd':{'c','e','i'},'e': {'d','f','g'},\n",
    "     'f': {'e','g'}, 'g': {'e','f'}, 'h': {'c','i','k'}, 'i': {'d','h','k'}, 'j': {'l','m'},\n",
    "     'k': {'h','i','m'}, 'l': {'j','m'}, 'm': {'l','k','j'} }\n",
    "\n",
    "print(f'test with g={g}')\n",
    "print(is_dangling_triangle_free(g))\n",
    "print(is_dangling_triangle_free2(g))\n",
    "print(is_dangling_triangle_free3(g))\n",
    "print()"
   ]
  }
 ],
 "metadata": {
  "kernelspec": {
   "display_name": "Python 3",
   "language": "python",
   "name": "python3"
  },
  "language_info": {
   "codemirror_mode": {
    "name": "ipython",
    "version": 3
   },
   "file_extension": ".py",
   "mimetype": "text/x-python",
   "name": "python",
   "nbconvert_exporter": "python",
   "pygments_lexer": "ipython3",
   "version": "3.11.7"
  }
 },
 "nbformat": 4,
 "nbformat_minor": 2
}
