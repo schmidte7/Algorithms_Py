{
 "cells": [
  {
   "cell_type": "code",
   "execution_count": 8,
   "metadata": {},
   "outputs": [
    {
     "name": "stdout",
     "output_type": "stream",
     "text": [
      "True\n",
      "True\n",
      "True\n"
     ]
    }
   ],
   "source": [
    "import numpy\n",
    "\n",
    "def duplicates(x):\n",
    "    for i in range(0, len(x)-1):\n",
    "        for j in range(i+1, len(x)):\n",
    "            if x[i] == x[j]:\n",
    "                return True\n",
    "            else:\n",
    "                j += 1\n",
    "        i += 1\n",
    "    if i >= len(x)-1:\n",
    "        return False\n",
    "\n",
    "def duplicates2(x):\n",
    "    for i in range(len(x)):\n",
    "        for j in range(i+1, len(x)):\n",
    "            if x[i] == x[j]:\n",
    "                return True\n",
    "            else:\n",
    "                j += 1\n",
    "    i += 1\n",
    "    return False\n",
    "\n",
    "def duplicates3(x):\n",
    "    for i in range(len(x)-1):\n",
    "        for j in range(i+1, len(x)):\n",
    "            if x[i] == x[j]:\n",
    "                return True\n",
    "    return False\n",
    "\n",
    "def main():\n",
    "    x = numpy.array([2, 3, 4, 5, 2])\n",
    "    print(duplicates(x))\n",
    "    print(duplicates2(x))\n",
    "    print(duplicates3(x))\n",
    "\n",
    "if __name__ == \"__main__\":\n",
    "    main()\n"
   ]
  }
 ],
 "metadata": {
  "kernelspec": {
   "display_name": "Python 3",
   "language": "python",
   "name": "python3"
  },
  "language_info": {
   "codemirror_mode": {
    "name": "ipython",
    "version": 3
   },
   "file_extension": ".py",
   "mimetype": "text/x-python",
   "name": "python",
   "nbconvert_exporter": "python",
   "pygments_lexer": "ipython3",
   "version": "3.11.7"
  }
 },
 "nbformat": 4,
 "nbformat_minor": 2
}
