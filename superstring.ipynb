{
 "cells": [
  {
   "cell_type": "code",
   "execution_count": 1,
   "metadata": {},
   "outputs": [
    {
     "name": "stdout",
     "output_type": "stream",
     "text": [
      "[<><>]\n"
     ]
    }
   ],
   "source": [
    "def superstring(k: int) -> str:\n",
    "    if k == 0: # If k = 0, return nothing\n",
    "        return \"\"\n",
    "    elif k % 2 == 1: # Odd\n",
    "        return \"<\" + superstring(k - 1) + \">\" # If the string is odd, use <>\n",
    "    else: # Even\n",
    "        return \"[\" + superstring(k - 1) + superstring(k - 1) + \"]\" # If the string is even, use []\n",
    "\n",
    "def main():\n",
    "    k = 2\n",
    "    print(superstring(k))\n",
    "\n",
    "if __name__==\"__main__\":\n",
    "    main()"
   ]
  }
 ],
 "metadata": {
  "kernelspec": {
   "display_name": "Python 3",
   "language": "python",
   "name": "python3"
  },
  "language_info": {
   "codemirror_mode": {
    "name": "ipython",
    "version": 3
   },
   "file_extension": ".py",
   "mimetype": "text/x-python",
   "name": "python",
   "nbconvert_exporter": "python",
   "pygments_lexer": "ipython3",
   "version": "3.11.7"
  }
 },
 "nbformat": 4,
 "nbformat_minor": 2
}
