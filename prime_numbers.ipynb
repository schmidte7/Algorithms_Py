{
 "cells": [
  {
   "cell_type": "code",
   "execution_count": 2,
   "metadata": {},
   "outputs": [
    {
     "name": "stdout",
     "output_type": "stream",
     "text": [
      "[2, 3, 5, 7]\n"
     ]
    }
   ],
   "source": [
    "def prime(n):\n",
    "    primes = []  # Create an empty list to store prime numbers\n",
    "    i = 1\n",
    "    count = 0\n",
    "\n",
    "    while count < n:\n",
    "        res = True\n",
    "        if i == 1:\n",
    "            res = False\n",
    "        elif i == 2:\n",
    "            res = True\n",
    "        else:\n",
    "            d = 2\n",
    "            while d < i and res == True:\n",
    "                if i % d == 0:\n",
    "                    res = False\n",
    "                else:\n",
    "                    d += 1\n",
    "\n",
    "        if res == True:\n",
    "            primes.append(i)  # Append the prime number to the list\n",
    "            count += 1\n",
    "        i += 1\n",
    "\n",
    "    return primes  # Return the list of prime numbers\n",
    "\n",
    "def main():\n",
    "    n = 4\n",
    "    result = prime(n)\n",
    "    print(result)\n",
    "\n",
    "if __name__ == \"__main__\":\n",
    "    main()\n"
   ]
  }
 ],
 "metadata": {
  "kernelspec": {
   "display_name": "Python 3",
   "language": "python",
   "name": "python3"
  },
  "language_info": {
   "codemirror_mode": {
    "name": "ipython",
    "version": 3
   },
   "file_extension": ".py",
   "mimetype": "text/x-python",
   "name": "python",
   "nbconvert_exporter": "python",
   "pygments_lexer": "ipython3",
   "version": "3.11.7"
  }
 },
 "nbformat": 4,
 "nbformat_minor": 2
}
