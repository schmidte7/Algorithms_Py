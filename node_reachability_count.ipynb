{
 "cells": [
  {
   "cell_type": "code",
   "execution_count": 1,
   "metadata": {},
   "outputs": [
    {
     "name": "stdout",
     "output_type": "stream",
     "text": [
      "7\n",
      "7\n"
     ]
    }
   ],
   "source": [
    "def nbReachableNodes(n, g):\n",
    "\n",
    "    if n not in g: # Base case: if the starting node is not in the graph...\n",
    "        return 0 # Return 0\n",
    "\n",
    "    visited = set() # Create a set to keep track of the visited nodes\n",
    "\n",
    "    def dfs(node):\n",
    "        visited.add(node)  # Mark the node as visited\n",
    "        count = 1 # Initialize the count of reachable nodes to 1 (for the current node)\n",
    "        for neighbor in g[node]: # Explore the neighbors of the current node\n",
    "            if neighbor not in visited: # Recursively count the reachable nodes from the neighbor\n",
    "                count += dfs(neighbor) # Add the neighbor\n",
    "        return count\n",
    "\n",
    "    return dfs(n) # Start the depth-first search from the starting node\n",
    "\n",
    "def countReachableNodes(g, n):\n",
    "    visited = set()\n",
    "    queue = [n]\n",
    "    count = 0\n",
    "    while queue:\n",
    "        node = queue.pop(0)\n",
    "        if node not in visited:\n",
    "            count += 1\n",
    "            visited.add(node)\n",
    "            for neighbor in g[node]:\n",
    "                queue.append(neighbor)\n",
    "    return count\n",
    "\n",
    "def main():\n",
    "    g =  {'a': {'b', 'c', 'd'},\n",
    "          'b': {'a', 'c', 'd', 'f'},\n",
    "          'c': {'a', 'b', 'd'},\n",
    "          'd': {'a', 'b', 'c'},\n",
    "          'e': {'f', 'g'},\n",
    "          'f': {'b', 'e', 'f'},\n",
    "          'g': {'e', 'f'}}\n",
    "    n = 'b'\n",
    "    print(nbReachableNodes(n, g))\n",
    "    print(countReachableNodes(g, n))\n",
    "\n",
    "if __name__==\"__main__\":\n",
    "    main()"
   ]
  }
 ],
 "metadata": {
  "kernelspec": {
   "display_name": "Python 3",
   "language": "python",
   "name": "python3"
  },
  "language_info": {
   "codemirror_mode": {
    "name": "ipython",
    "version": 3
   },
   "file_extension": ".py",
   "mimetype": "text/x-python",
   "name": "python",
   "nbconvert_exporter": "python",
   "pygments_lexer": "ipython3",
   "version": "3.11.7"
  }
 },
 "nbformat": 4,
 "nbformat_minor": 2
}
