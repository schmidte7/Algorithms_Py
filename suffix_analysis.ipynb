{
 "cells": [
  {
   "cell_type": "code",
   "execution_count": 2,
   "metadata": {},
   "outputs": [
    {
     "name": "stdout",
     "output_type": "stream",
     "text": [
      "\n",
      "strings =  ['Voltaire', 'the', 'geat', 'writer', 'and', 'poet', 'was', 'born', 'in', '1694', 'AS', 'François-Marie', 'Arouet', 'there', 'and', 'and']\n",
      "---> suffix(strings) =  {'re': 2, 'he': 1, 'at': 1, 'er': 1, 'nd': 3, 'et': 2, 'as': 2, 'rn': 1, 'in': 1, '94': 1, 'ie': 1}\n"
     ]
    }
   ],
   "source": [
    "def suffix(words):\n",
    "    suff_dictionary = dict() # Create an empty dictionary\n",
    "    suff_lower = [] # Create empty list for lowercased words\n",
    "\n",
    "    for word in words: # Iterate throug the original word list\n",
    "        suff_lower.append(word.lower()) # Append all lowercased words to the new list\n",
    "\n",
    "    for word in suff_lower: # Iterate through new list\n",
    "        if len(word) >= 2: # All words have to be 2 letters or more to have a suffix\n",
    "            suffix = word[-2:] # Suffix is the two letters at the end of the word (key)\n",
    "\n",
    "            if suffix in suff_dictionary: # If statement to check if the key exists in the dictionary\n",
    "                suff_dictionary[suffix] = suff_dictionary[suffix] + 1 # Key already exists, add 1\n",
    "            else: # If the key 'not in' the dictionary\n",
    "                suff_dictionary[suffix] = 1 # Add the key and a value of 1\n",
    "\n",
    "    most_words = [] # Create a new list for the most frequent words\n",
    "    for key, value in suff_dictionary.items(): # Iterate through all of the keys and values of dictionary\n",
    "         if value > 2: # Check only values that are 3 or more\n",
    "            most_words.append(key) # Append the word to the new list to return the most frequent words\n",
    "            #print(most_words,sep=\"\\n\")\n",
    "\n",
    "    return most_words, suff_dictionary\n",
    "\n",
    "def main():\n",
    "    words = [\"Voltaire\", \"the\", \"geat\", \"writer\", \"and\", \"poet\", \"was\", \"born\", \"in\", \"1694\", \"AS\",\n",
    "             \"François-Marie\", \"Arouet\", \"there\", \"and\", \"and\"]\n",
    "    print(\"\\nstrings = \", words)\n",
    "\n",
    "    most_words, suff_dictionary = suffix(words)\n",
    "    \n",
    "    print(\"---> suffix(strings) = \", suff_dictionary)\n",
    "\n",
    "if __name__ == \"__main__\":\n",
    "    main()\n"
   ]
  }
 ],
 "metadata": {
  "kernelspec": {
   "display_name": "Python 3",
   "language": "python",
   "name": "python3"
  },
  "language_info": {
   "codemirror_mode": {
    "name": "ipython",
    "version": 3
   },
   "file_extension": ".py",
   "mimetype": "text/x-python",
   "name": "python",
   "nbconvert_exporter": "python",
   "pygments_lexer": "ipython3",
   "version": "3.11.7"
  }
 },
 "nbformat": 4,
 "nbformat_minor": 2
}
