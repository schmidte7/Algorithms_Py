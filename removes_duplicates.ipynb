{
 "cells": [
  {
   "cell_type": "code",
   "execution_count": 1,
   "metadata": {},
   "outputs": [
    {
     "name": "stdout",
     "output_type": "stream",
     "text": [
      "[2, 3, 4, 5]\n",
      "[2, 3, 4, 5]\n",
      "[2, 3, 4, 5]\n"
     ]
    }
   ],
   "source": [
    "def remove_duplicates(x):\n",
    "\n",
    "    duplicates = []\n",
    "\n",
    "    # Similar to TP 5.2\n",
    "    # If you only use i and not e, it will return the actual positions and not the position of the element\n",
    "    for i in range(len(x)): # Iterate through the list\n",
    "        e = x[i] # Set a new value to each position in the list\n",
    "        if e not in duplicates: # If that element in not in the list\n",
    "            duplicates.append(e) # Add e to the duplicates list\n",
    "    return duplicates\n",
    "\n",
    "def remove_dups(x):\n",
    "\n",
    "    remove_list = [] # Create empty list\n",
    "\n",
    "    for i in x: # Iterate through the list of x\n",
    "        if i not in remove_list: # If the i is not already in the created list\n",
    "            remove_list.append(i) # Add the i to the remove_list\n",
    "    return remove_list\n",
    "\n",
    "def remove_dups2(x):\n",
    "    remove_set = set()\n",
    "    remove_list2 = []\n",
    "\n",
    "    for i in x:\n",
    "        remove_set.add(i)\n",
    "\n",
    "    for i in remove_set:\n",
    "        remove_list2.append(i)\n",
    "    return remove_list2\n",
    "\n",
    "def main():\n",
    "    x = [2,3,4,5,4,2]\n",
    "    print(remove_duplicates(x))\n",
    "    print(remove_dups(x))\n",
    "    print(remove_dups2(x))\n",
    "\n",
    "if __name__==\"__main__\":\n",
    "    main()"
   ]
  }
 ],
 "metadata": {
  "kernelspec": {
   "display_name": "Python 3",
   "language": "python",
   "name": "python3"
  },
  "language_info": {
   "codemirror_mode": {
    "name": "ipython",
    "version": 3
   },
   "file_extension": ".py",
   "mimetype": "text/x-python",
   "name": "python",
   "nbconvert_exporter": "python",
   "pygments_lexer": "ipython3",
   "version": "3.11.7"
  }
 },
 "nbformat": 4,
 "nbformat_minor": 2
}
