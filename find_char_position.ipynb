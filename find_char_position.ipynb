{
 "cells": [
  {
   "cell_type": "code",
   "execution_count": 2,
   "metadata": {},
   "outputs": [
    {
     "name": "stdout",
     "output_type": "stream",
     "text": [
      "5\n",
      "5\n"
     ]
    }
   ],
   "source": [
    "def char_position(string, character):\n",
    "\n",
    "    i = 0 # For a while loop, start at position zero (0)\n",
    "\n",
    "    while i < len(string)-1 and string[i] != character: # Iterate as long as you are in the string and the character is != to letter of the string\n",
    "        i+=1 # Continue to add one until one of those statements is not True\n",
    "    if string[i] == character: # If the string position and character are equal, return the position of the string\n",
    "        return i # Return the position where c is located\n",
    "    else:\n",
    "        return False # Return False if character not in sting\n",
    "\n",
    "def char_position2(string, character):\n",
    "    for i in range(len(string)):\n",
    "        if string[i] == character:\n",
    "            return i  # Return the position when character is found\n",
    "    return False  # Return False if character is not in the string\n",
    "\n",
    "def main():\n",
    "    string = \"sillybag\"\n",
    "    character = \"b\"\n",
    "    print(char_position(string, character))\n",
    "    print(char_position2(string, character))\n",
    "\n",
    "if __name__==\"__main__\":\n",
    "    main()"
   ]
  }
 ],
 "metadata": {
  "kernelspec": {
   "display_name": "Python 3",
   "language": "python",
   "name": "python3"
  },
  "language_info": {
   "codemirror_mode": {
    "name": "ipython",
    "version": 3
   },
   "file_extension": ".py",
   "mimetype": "text/x-python",
   "name": "python",
   "nbconvert_exporter": "python",
   "pygments_lexer": "ipython3",
   "version": "3.11.7"
  }
 },
 "nbformat": 4,
 "nbformat_minor": 2
}
