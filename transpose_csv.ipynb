{
 "cells": [
  {
   "cell_type": "code",
   "execution_count": 1,
   "metadata": {},
   "outputs": [],
   "source": [
    "# Create an input and output file for the code to properly work. CSV names located in under def_main().\n",
    "\n",
    "import csv\n",
    "\n",
    "def transpose(input_file: str, output_file: str):\n",
    "\n",
    "    with open(input_file) as infile, open(output_file, 'w', newline = \"\") as outfile: # Read in the csv output file and set as 'w' for write into it later\n",
    "\n",
    "        reader = csv.reader(infile) # Iterate through the infile\n",
    "        writer = csv.writer(outfile) # Iterate through the outfile\n",
    "\n",
    "        rows = [] # Create empty list to first store the content in the infile\n",
    "        maxcolumn = 0 # ????\n",
    "\n",
    "        for line in reader: # Iterate through the infile/reader\n",
    "            rows.append(line) # Append each line into the created list (should be three lines)\n",
    "            maxcolumn = max(maxcolumn, len(line)) # 3 items exist (a1,b1,c1)\n",
    "\n",
    "        for i in range(maxcolumn): # Iterate through the maxcolumn (3)\n",
    "            transposerow = [] # Create second empty list to store transposed lines\n",
    "            for j in range(len(rows)): # Iterate through the len(rows) which should be four (4)\n",
    "                if i < len(rows[j]): # rows[j] = 3 because you are looking at individual 'cells' in rows\n",
    "                    transposerow.append(rows[j][i]) # Append the position of j and i from rows\n",
    "            writer.writerow(transposerow) # Write into the output file\n",
    "\n",
    "def main():\n",
    "    transpose('Book1.csv', 'Book1-transpose.csv')\n",
    "\n",
    "if __name__==\"__main__\":\n",
    "    main()"
   ]
  }
 ],
 "metadata": {
  "kernelspec": {
   "display_name": "Python 3",
   "language": "python",
   "name": "python3"
  },
  "language_info": {
   "codemirror_mode": {
    "name": "ipython",
    "version": 3
   },
   "file_extension": ".py",
   "mimetype": "text/x-python",
   "name": "python",
   "nbconvert_exporter": "python",
   "pygments_lexer": "ipython3",
   "version": "3.11.7"
  }
 },
 "nbformat": 4,
 "nbformat_minor": 2
}
