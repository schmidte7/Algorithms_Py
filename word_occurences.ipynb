{
 "cells": [
  {
   "cell_type": "code",
   "execution_count": 1,
   "metadata": {},
   "outputs": [
    {
     "name": "stdout",
     "output_type": "stream",
     "text": [
      "\n",
      "file_path1 =  file.txt\n",
      "file_path2 =  file_other.txt\n"
     ]
    },
    {
     "ename": "FileNotFoundError",
     "evalue": "[Errno 2] No such file or directory: 'file.txt'",
     "output_type": "error",
     "traceback": [
      "\u001b[1;31m---------------------------------------------------------------------------\u001b[0m",
      "\u001b[1;31mFileNotFoundError\u001b[0m                         Traceback (most recent call last)",
      "Cell \u001b[1;32mIn[1], line 73\u001b[0m\n\u001b[0;32m     69\u001b[0m             \u001b[38;5;28mprint\u001b[39m(\u001b[38;5;124m\"\u001b[39m\u001b[38;5;130;01m\\t\u001b[39;00m\u001b[38;5;124m\"\u001b[39m, line)\n\u001b[0;32m     72\u001b[0m \u001b[38;5;28;01mif\u001b[39;00m \u001b[38;5;18m__name__\u001b[39m\u001b[38;5;241m==\u001b[39m\u001b[38;5;124m\"\u001b[39m\u001b[38;5;124m__main__\u001b[39m\u001b[38;5;124m\"\u001b[39m:\n\u001b[1;32m---> 73\u001b[0m     \u001b[43mmain\u001b[49m\u001b[43m(\u001b[49m\u001b[43m)\u001b[49m\n",
      "Cell \u001b[1;32mIn[1], line 64\u001b[0m, in \u001b[0;36mmain\u001b[1;34m()\u001b[0m\n\u001b[0;32m     62\u001b[0m \u001b[38;5;28mprint\u001b[39m(\u001b[38;5;124m\"\u001b[39m\u001b[38;5;130;01m\\n\u001b[39;00m\u001b[38;5;124mfile_path1 = \u001b[39m\u001b[38;5;124m\"\u001b[39m, file_path1)\n\u001b[0;32m     63\u001b[0m \u001b[38;5;28mprint\u001b[39m(\u001b[38;5;124m\"\u001b[39m\u001b[38;5;124mfile_path2 = \u001b[39m\u001b[38;5;124m\"\u001b[39m, file_path2)\n\u001b[1;32m---> 64\u001b[0m word_to_lineIndex,lineIndex_to_line \u001b[38;5;241m=\u001b[39m \u001b[43msolution\u001b[49m\u001b[43m(\u001b[49m\u001b[43mfile_path1\u001b[49m\u001b[43m,\u001b[49m\u001b[43m \u001b[49m\u001b[43mfile_path2\u001b[49m\u001b[43m)\u001b[49m\n\u001b[0;32m     65\u001b[0m \u001b[38;5;28;01mfor\u001b[39;00m word,lineIndices \u001b[38;5;129;01min\u001b[39;00m word_to_lineIndex\u001b[38;5;241m.\u001b[39mitems():\n\u001b[0;32m     66\u001b[0m     \u001b[38;5;28mprint\u001b[39m(\u001b[38;5;124m\"\u001b[39m\u001b[38;5;130;01m\\n\u001b[39;00m\u001b[38;5;130;01m\\\"\u001b[39;00m\u001b[38;5;124m\"\u001b[39m\u001b[38;5;241m+\u001b[39mword\u001b[38;5;241m+\u001b[39m\u001b[38;5;124m\"\u001b[39m\u001b[38;5;130;01m\\\"\u001b[39;00m\u001b[38;5;124m appears in lines : \u001b[39m\u001b[38;5;124m\"\u001b[39m)\n",
      "Cell \u001b[1;32mIn[1], line 6\u001b[0m, in \u001b[0;36msolution\u001b[1;34m(file_path1, file_path2)\u001b[0m\n\u001b[0;32m      3\u001b[0m \u001b[38;5;28;01mdef\u001b[39;00m \u001b[38;5;21msolution\u001b[39m(file_path1, file_path2):\n\u001b[0;32m      4\u001b[0m \n\u001b[0;32m      5\u001b[0m     \u001b[38;5;66;03m# we open the file reader F1 and the file writer F2\u001b[39;00m\n\u001b[1;32m----> 6\u001b[0m     \u001b[38;5;28;01mwith\u001b[39;00m \u001b[38;5;28;43mopen\u001b[39;49m\u001b[43m(\u001b[49m\u001b[43mfile_path1\u001b[49m\u001b[43m,\u001b[49m\u001b[43m \u001b[49m\u001b[43mmode\u001b[49m\u001b[38;5;241;43m=\u001b[39;49m\u001b[38;5;124;43m\"\u001b[39;49m\u001b[38;5;124;43mr\u001b[39;49m\u001b[38;5;124;43m\"\u001b[39;49m\u001b[43m,\u001b[49m\u001b[43m \u001b[49m\u001b[43mencoding\u001b[49m\u001b[38;5;241;43m=\u001b[39;49m\u001b[38;5;124;43m\"\u001b[39;49m\u001b[38;5;124;43mutf-8\u001b[39;49m\u001b[38;5;124;43m\"\u001b[39;49m\u001b[43m)\u001b[49m \u001b[38;5;28;01mas\u001b[39;00m F1, \u001b[38;5;28mopen\u001b[39m(file_path2, mode\u001b[38;5;241m=\u001b[39m\u001b[38;5;124m\"\u001b[39m\u001b[38;5;124mw\u001b[39m\u001b[38;5;124m\"\u001b[39m, encoding\u001b[38;5;241m=\u001b[39m\u001b[38;5;124m\"\u001b[39m\u001b[38;5;124mutf-8\u001b[39m\u001b[38;5;124m\"\u001b[39m) \u001b[38;5;28;01mas\u001b[39;00m F2 :\n\u001b[0;32m      7\u001b[0m \n\u001b[0;32m      8\u001b[0m         \u001b[38;5;66;03m# the dictionary word_to_lineIndices associates each word/token to the indices of the lines where it appears\u001b[39;00m\n\u001b[0;32m      9\u001b[0m         word_to_lineIndices\u001b[38;5;241m=\u001b[39m\u001b[38;5;28mdict\u001b[39m()\n\u001b[0;32m     10\u001b[0m         \u001b[38;5;66;03m# the dictionary lineIndex_to_line associates each line-index to its corresponding line\u001b[39;00m\n",
      "File \u001b[1;32m~\\AppData\\Local\\Packages\\PythonSoftwareFoundation.Python.3.11_qbz5n2kfra8p0\\LocalCache\\local-packages\\Python311\\site-packages\\IPython\\core\\interactiveshell.py:286\u001b[0m, in \u001b[0;36m_modified_open\u001b[1;34m(file, *args, **kwargs)\u001b[0m\n\u001b[0;32m    279\u001b[0m \u001b[38;5;28;01mif\u001b[39;00m file \u001b[38;5;129;01min\u001b[39;00m {\u001b[38;5;241m0\u001b[39m, \u001b[38;5;241m1\u001b[39m, \u001b[38;5;241m2\u001b[39m}:\n\u001b[0;32m    280\u001b[0m     \u001b[38;5;28;01mraise\u001b[39;00m \u001b[38;5;167;01mValueError\u001b[39;00m(\n\u001b[0;32m    281\u001b[0m         \u001b[38;5;124mf\u001b[39m\u001b[38;5;124m\"\u001b[39m\u001b[38;5;124mIPython won\u001b[39m\u001b[38;5;124m'\u001b[39m\u001b[38;5;124mt let you open fd=\u001b[39m\u001b[38;5;132;01m{\u001b[39;00mfile\u001b[38;5;132;01m}\u001b[39;00m\u001b[38;5;124m by default \u001b[39m\u001b[38;5;124m\"\u001b[39m\n\u001b[0;32m    282\u001b[0m         \u001b[38;5;124m\"\u001b[39m\u001b[38;5;124mas it is likely to crash IPython. If you know what you are doing, \u001b[39m\u001b[38;5;124m\"\u001b[39m\n\u001b[0;32m    283\u001b[0m         \u001b[38;5;124m\"\u001b[39m\u001b[38;5;124myou can use builtins\u001b[39m\u001b[38;5;124m'\u001b[39m\u001b[38;5;124m open.\u001b[39m\u001b[38;5;124m\"\u001b[39m\n\u001b[0;32m    284\u001b[0m     )\n\u001b[1;32m--> 286\u001b[0m \u001b[38;5;28;01mreturn\u001b[39;00m \u001b[43mio_open\u001b[49m\u001b[43m(\u001b[49m\u001b[43mfile\u001b[49m\u001b[43m,\u001b[49m\u001b[43m \u001b[49m\u001b[38;5;241;43m*\u001b[39;49m\u001b[43margs\u001b[49m\u001b[43m,\u001b[49m\u001b[43m \u001b[49m\u001b[38;5;241;43m*\u001b[39;49m\u001b[38;5;241;43m*\u001b[39;49m\u001b[43mkwargs\u001b[49m\u001b[43m)\u001b[49m\n",
      "\u001b[1;31mFileNotFoundError\u001b[0m: [Errno 2] No such file or directory: 'file.txt'"
     ]
    }
   ],
   "source": [
    "# Create two files named file_path1 and file_path2 for the code to properly work.\n",
    "\n",
    "import re\n",
    "\n",
    "def solution(file_path1, file_path2):\n",
    "\n",
    "    # we open the file reader F1 and the file writer F2\n",
    "    with open(file_path1, mode=\"r\", encoding=\"utf-8\") as F1, open(file_path2, mode=\"w\", encoding=\"utf-8\") as F2 :\n",
    "\n",
    "        # the dictionary word_to_lineIndices associates each word/token to the indices of the lines where it appears\n",
    "        word_to_lineIndices=dict()\n",
    "        # the dictionary lineIndex_to_line associates each line-index to its corresponding line\n",
    "        lineIndex_to_line=dict()\n",
    "\n",
    "        # we set the regular expression used in splitting each line\n",
    "        reg_exp=\"[ ,;:\\’\\\"\\?!\\n\\t\\r]+\"\n",
    "\n",
    "        # we initialize i, it is the index of each line\n",
    "        i=0\n",
    "        # we read the first line in the first file\n",
    "        line=F1.readline()\n",
    "        # we set stayInLoop, it will equal to True as long as we have not reached the end of the first file\n",
    "        stayInLoop=bool(line)\n",
    "        while stayInLoop :\n",
    "            # we remove the trailing characters in line\n",
    "            line=line.rstrip()\n",
    "            # we associate the line to its index in lineIndex_to_line\n",
    "            lineIndex_to_line[i]=line\n",
    "            # we split the line into tokens (words, numbers, etc.) based on the regular expression reg_exp\n",
    "            tokens=re.split(reg_exp, line)\n",
    "\n",
    "            # we go through every token in the list tokens\n",
    "            for token in tokens :\n",
    "                # we process only non-empty strings (the split function can produce empty strings, i.e. \"\" is the empty string)\n",
    "                if len(token)>=1:\n",
    "                    # if token exists as a key in word_to_lineIndices, then we update the line-indices list where token appears by appending i to it\n",
    "                    if token in word_to_lineIndices:\n",
    "                        lineIndices=word_to_lineIndices[token]\n",
    "                        lineIndices.append(i)\n",
    "\n",
    "                        # we write token in F2 only if it appears at least two times\n",
    "                        # the boolean expression len(lineIndices)==2 is used to insure that a token is written only once in F2\n",
    "                        if len(lineIndices)==2 :\n",
    "                            F2.write(token+\"\\n\")\n",
    "                    # else (if token DOESN'T exists as a key in word_to_lineIndices), then we initialize the line-indices list where token appears by setting it to [i]\n",
    "                    else:\n",
    "                        word_to_lineIndices[token]=[i]\n",
    "\n",
    "            # we read the next line from F1\n",
    "            line=F1.readline()\n",
    "            # we set stayInLoop, it is equal to True if line is not the end of the first file\n",
    "            stayInLoop = bool(line)\n",
    "            # we increment i by 1\n",
    "            i+=1\n",
    "\n",
    "    return word_to_lineIndices,lineIndex_to_line\n",
    "\n",
    "\n",
    "def main():\n",
    "\n",
    "    file_path1 = \"file.txt\"\n",
    "    file_path2 = \"file_other.txt\"\n",
    "\n",
    "    print(\"\\nfile_path1 = \", file_path1)\n",
    "    print(\"file_path2 = \", file_path2)\n",
    "    word_to_lineIndex,lineIndex_to_line = solution(file_path1, file_path2)\n",
    "    for word,lineIndices in word_to_lineIndex.items():\n",
    "        print(\"\\n\\\"\"+word+\"\\\" appears in lines : \")\n",
    "        for lineIndex in lineIndices:\n",
    "            line = lineIndex_to_line[lineIndex]\n",
    "            print(\"\\t\", line)\n",
    "\n",
    "\n",
    "if __name__==\"__main__\":\n",
    "    main()\n"
   ]
  }
 ],
 "metadata": {
  "kernelspec": {
   "display_name": "Python 3",
   "language": "python",
   "name": "python3"
  },
  "language_info": {
   "codemirror_mode": {
    "name": "ipython",
    "version": 3
   },
   "file_extension": ".py",
   "mimetype": "text/x-python",
   "name": "python",
   "nbconvert_exporter": "python",
   "pygments_lexer": "ipython3",
   "version": "3.11.7"
  }
 },
 "nbformat": 4,
 "nbformat_minor": 2
}
