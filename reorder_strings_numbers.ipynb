{
 "cells": [
  {
   "cell_type": "code",
   "execution_count": 1,
   "metadata": {},
   "outputs": [
    {
     "name": "stdout",
     "output_type": "stream",
     "text": [
      "['GAT', 'ACG', 'TA', 'CT', 'CTA']\n",
      "[1, 4, 8, 90, 17, 21, 87, 345, 901]\n"
     ]
    }
   ],
   "source": [
    "import numpy\n",
    "def reorder_array(array):\n",
    "  prefix_g = [] # Create list for prefix G\n",
    "  others = [] # Create list for prefix for anything but G and C\n",
    "  prefix_c = [] # Create list for prefix C\n",
    "  for s in array: # Iterate through the array\n",
    "    if s[0] == 'G': # Look at the first position of the first word in the array to see if it =s 'G'\n",
    "      prefix_g.append(s) # Append to the first 'G' list\n",
    "    elif s[0] == 'C': # Look at the first position of the first word in the array to see if it =s 'C'\n",
    "      prefix_c.append(s) # Append to the third 'C' list\n",
    "    else: # If the first position of the word is not 'G' or 'C'\n",
    "      others.append(s) # Append to the second 'other' list\n",
    "  return prefix_g + others + prefix_c # Order them by using '+'\n",
    "\n",
    "def reorder_array2(array2):\n",
    "  prefix_10 = [] # Create list for number less than 10\n",
    "  others = [] # Create list for prefix for anything but >10 and 90<\n",
    "  prefix_90 = [] # Create list for number greater than 90\n",
    "  for e in array2: # Iterate through the array\n",
    "    if e < 10: # Look at the first number in the array to see if it is less than 10\n",
    "      prefix_10.append(e) # Append to the first '10' list\n",
    "    elif e > 90: # Look at the first number in the array to see if it is greater than 90\n",
    "      prefix_90.append(e) # Append to the third 90 list\n",
    "    else: # If the first position of the word is not >10 or 90<\n",
    "      others.append(e) # Append to the second 'other' list\n",
    "  return prefix_10 + others + prefix_90 # Order them by using '+'\n",
    "\n",
    "def main():\n",
    "    array = numpy.array([\"CT\", \"ACG\", \"TA\", \"CTA\", \"GAT\"])\n",
    "    array2 = numpy.array([90,1,345,17,21,4,901,87,8])\n",
    "    print(reorder_array(array))\n",
    "    print(reorder_array2(array2))\n",
    "if __name__==\"__main__\":\n",
    "    main()"
   ]
  }
 ],
 "metadata": {
  "kernelspec": {
   "display_name": "Python 3",
   "language": "python",
   "name": "python3"
  },
  "language_info": {
   "codemirror_mode": {
    "name": "ipython",
    "version": 3
   },
   "file_extension": ".py",
   "mimetype": "text/x-python",
   "name": "python",
   "nbconvert_exporter": "python",
   "pygments_lexer": "ipython3",
   "version": "3.11.7"
  }
 },
 "nbformat": 4,
 "nbformat_minor": 2
}
