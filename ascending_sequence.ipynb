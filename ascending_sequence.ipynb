{
 "cells": [
  {
   "cell_type": "code",
   "execution_count": 1,
   "metadata": {},
   "outputs": [
    {
     "name": "stdout",
     "output_type": "stream",
     "text": [
      "Number of maximal ascending sequences: 4\n",
      "Sum of the lengths of the maximal ascending sequences: 11\n"
     ]
    }
   ],
   "source": [
    "import numpy\n",
    "A = numpy.array([2, 6, 4, -1, -2, 5, 55, 1012, 66, 12, 1, 400, 2, 55, 99, 8, 6, 2])\n",
    "n = len(A)\n",
    "count = 0\n",
    "sum_lengths = 0\n",
    "current_length = 1\n",
    "for i in range(n):\n",
    "    if A[i] > A[i - 1]:\n",
    "        current_length += 1\n",
    "    else:\n",
    "        if current_length > 1:\n",
    "            count += 1\n",
    "            sum_lengths += current_length\n",
    "        current_length = 1\n",
    "if current_length > 1:\n",
    "    count += 1\n",
    "    sum_lengths += current_length\n",
    "print(\"Number of maximal ascending sequences:\", count)\n",
    "print(\"Sum of the lengths of the maximal ascending sequences:\", sum_lengths)"
   ]
  }
 ],
 "metadata": {
  "kernelspec": {
   "display_name": "Python 3",
   "language": "python",
   "name": "python3"
  },
  "language_info": {
   "codemirror_mode": {
    "name": "ipython",
    "version": 3
   },
   "file_extension": ".py",
   "mimetype": "text/x-python",
   "name": "python",
   "nbconvert_exporter": "python",
   "pygments_lexer": "ipython3",
   "version": "3.11.7"
  }
 },
 "nbformat": 4,
 "nbformat_minor": 2
}
