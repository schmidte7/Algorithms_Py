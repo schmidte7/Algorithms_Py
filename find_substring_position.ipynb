{
 "cells": [
  {
   "cell_type": "code",
   "execution_count": 5,
   "metadata": {},
   "outputs": [
    {
     "name": "stdout",
     "output_type": "stream",
     "text": [
      "7\n"
     ]
    }
   ],
   "source": [
    "def substring(s, sub):\n",
    "\n",
    "    if len(sub) > len(s): # If the length of the substring exceeds the string\n",
    "        return False # Return False\n",
    "    else: # If the substring is less than the string\n",
    "        i = 0 # Iterator through string\n",
    "        while i < len(s) : # Iterate through the length of the string\n",
    "            exitLoop = False # Assign value as False/0\n",
    "            j = 0 # Iterator through substring\n",
    "            while j < len(sub) and not exitLoop : # Iterate through the substring, J VARIES BETWEEN 0 AND LEN(SUB)-1 and exitLoop not = 1 (True)\n",
    "                if s[i+j] == sub[j]: # Now check again that the positions align and switch 0 to j in sub\n",
    "                    j+=1 # Keep i constant in first loop, but add j to move both string and substring\n",
    "                else: # If they do no match, exit the loop\n",
    "                    exitLoop = True # Take that value away (1/True) - breaking the loop\n",
    "\n",
    "            if j >= len(sub) : # Once j is = or greater than the sub length (means it has reached the end)\n",
    "                return i # Return the position\n",
    "            else:\n",
    "                i+=1 # If not at the end, go through the i loop again to look at the next set of i and j\n",
    "\n",
    "        return False\n",
    "\n",
    "def main():\n",
    "    s = \"hellollup\"\n",
    "    sub = \"up\"\n",
    "    print(substring(s,sub))\n",
    "\n",
    "if __name__==\"__main__\":\n",
    "    main()"
   ]
  }
 ],
 "metadata": {
  "kernelspec": {
   "display_name": "Python 3",
   "language": "python",
   "name": "python3"
  },
  "language_info": {
   "codemirror_mode": {
    "name": "ipython",
    "version": 3
   },
   "file_extension": ".py",
   "mimetype": "text/x-python",
   "name": "python",
   "nbconvert_exporter": "python",
   "pygments_lexer": "ipython3",
   "version": "3.11.7"
  }
 },
 "nbformat": 4,
 "nbformat_minor": 2
}
