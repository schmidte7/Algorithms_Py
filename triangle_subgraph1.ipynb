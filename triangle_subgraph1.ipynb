{
 "cells": [
  {
   "cell_type": "code",
   "execution_count": 1,
   "metadata": {},
   "outputs": [
    {
     "name": "stdout",
     "output_type": "stream",
     "text": [
      "---> triangleSubGraph(g=g1) =  [{'a', 'b', 'c'}]\n",
      "---> triangleSubGraph(g=g2) =  []\n"
     ]
    }
   ],
   "source": [
    "def triangleSubGraph(g):\n",
    "\n",
    "    triangleSub_list = [] # Create an empty list to store subgraphs\n",
    "\n",
    "    for x, nodes_of_x in g.items(): # Iterate through the dictionary for key (a) and values (a,b,c)\n",
    "        for y in nodes_of_x: # Choose another value inside of a values (b)\n",
    "            if x !=y: # If a and b are not equal... (do not want to loop over itself)\n",
    "                nodes_of_y = g[y] # Pull the values from the dictionary for the b key and its values (a, c)\n",
    "                for z in nodes_of_y: # Loop through the last key (c)\n",
    "                    if z in nodes_of_x and z !=x and z!=y: # If c is in the values of x and does not equal a and b...\n",
    "                        triangleSub = {x,y,z} # Create a subgraph value with those three keys (can also use list but will be repetitive)\n",
    "                        if triangleSub not in triangleSub_list: # Check to see if that triangleSub is already in the list\n",
    "                            triangleSub_list.append(triangleSub) # If it is not, append to the over list for an output\n",
    "    return triangleSub_list\n",
    "\n",
    "def main():\n",
    "    ''' Test case 1 '''\n",
    "    g = {'a': {'b', 'c', 'a'}, 'b': {'a', 'c'}, 'c': {'a', 'b', 'd'}, 'd': {'c'}}\n",
    "    # print(\"\\ng1 = \", g1)\n",
    "    print(\"---> triangleSubGraph(g=g1) = \", triangleSubGraph(g))\n",
    "\n",
    "    ''' Test case 2 '''\n",
    "    g2 = {'a': {'b', 'a'},\n",
    "          'b': {'a', 'b', 'c'},\n",
    "          'c': {'b', 'd', 'e'},\n",
    "          'd': {'c'},\n",
    "          'e': {'c'}}\n",
    "\n",
    "\n",
    "    #print(\"\\ng2 = \", g2)\n",
    "    print(\"---> triangleSubGraph(g=g2) = \", triangleSubGraph(g=g2))\n",
    "\n",
    "if __name__ == \"__main__\":\n",
    "    main()"
   ]
  }
 ],
 "metadata": {
  "kernelspec": {
   "display_name": "Python 3",
   "language": "python",
   "name": "python3"
  },
  "language_info": {
   "codemirror_mode": {
    "name": "ipython",
    "version": 3
   },
   "file_extension": ".py",
   "mimetype": "text/x-python",
   "name": "python",
   "nbconvert_exporter": "python",
   "pygments_lexer": "ipython3",
   "version": "3.11.7"
  }
 },
 "nbformat": 4,
 "nbformat_minor": 2
}
