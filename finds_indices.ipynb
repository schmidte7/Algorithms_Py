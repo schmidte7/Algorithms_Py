{
 "cells": [
  {
   "cell_type": "code",
   "execution_count": 1,
   "metadata": {},
   "outputs": [
    {
     "name": "stdout",
     "output_type": "stream",
     "text": [
      "True\n",
      "[3, 11]\n"
     ]
    }
   ],
   "source": [
    "def starts_with(s,a,query):\n",
    "    if a < 0 or a >= len(s):\n",
    "        raise Exception(\"\")\n",
    "    else:\n",
    "        i = a # Start iterating i at position a or 4\n",
    "        j = 0 # Iterate through the query\n",
    "        while j < len(query): # While j is less than the length of the query\n",
    "            if query[j] != s[i]: # If the two letters do not equal\n",
    "                return False # Immediately return False\n",
    "            else: # If the string letter and query letters match at first...\n",
    "                j+=1 # Iterate query to check next letter\n",
    "                i+=1 # Iterate string to check next letter\n",
    "        return True\n",
    "\n",
    "def indices_of_query(s, query):\n",
    "    indices = [] # Create empty list\n",
    "\n",
    "    for i in range(len(s)): # Iterate through the string\n",
    "        if starts_with(s=s,a=i,query=query): # Need to set equal the certain elements. a comes from the\n",
    "                                             # first function, i the current. Need to assign i to a\n",
    "            indices.append(i) # Add the position of where the query appears\n",
    "    return indices\n",
    "\n",
    "def main():\n",
    "    s = \"capitol capitol\"\n",
    "    a = 3\n",
    "    query = \"it\"\n",
    "    print(starts_with(s,a,query))\n",
    "    print(indices_of_query(s,query))\n",
    "\n",
    "if __name__==\"__main__\":\n",
    "    main()"
   ]
  }
 ],
 "metadata": {
  "kernelspec": {
   "display_name": "Python 3",
   "language": "python",
   "name": "python3"
  },
  "language_info": {
   "codemirror_mode": {
    "name": "ipython",
    "version": 3
   },
   "file_extension": ".py",
   "mimetype": "text/x-python",
   "name": "python",
   "nbconvert_exporter": "python",
   "pygments_lexer": "ipython3",
   "version": "3.11.7"
  }
 },
 "nbformat": 4,
 "nbformat_minor": 2
}
