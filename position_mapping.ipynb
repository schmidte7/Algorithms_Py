{
 "cells": [
  {
   "cell_type": "code",
   "execution_count": 1,
   "metadata": {},
   "outputs": [
    {
     "name": "stdout",
     "output_type": "stream",
     "text": [
      "{5: {0, 2, 7}, 0: {1, 4, 5}, 1: {3}, 3: {6}}\n",
      "{5: {0, 2, 7}, 0: {1, 4, 5}, 1: {3}, 3: {6}}\n"
     ]
    }
   ],
   "source": [
    "import numpy\n",
    "def construct_position_map(array):\n",
    "    position_map = dict() # Create empty dictionary\n",
    "    for i, v in enumerate(array): # Iterate through the array with key and value\n",
    "        if v not in position_map: # If the value is not dictionary\n",
    "            position_map[v] = set([i]) # Add a set to the values\n",
    "        else:\n",
    "            position_map[v].add(i) # Append the position of that number\n",
    "    return position_map\n",
    "\n",
    "def construct_position_map2(array):\n",
    "    position_map = dict() # Create empty dictionary\n",
    "    i = 0\n",
    "    for number in array:\n",
    "        if number not in position_map:\n",
    "            position_map[number] = set([i])\n",
    "        else:\n",
    "            number_indice = position_map[number]\n",
    "            number_indice.add(i)\n",
    "        i+=1\n",
    "    return position_map\n",
    "\n",
    "def main():\n",
    "    array = numpy.array([5,0,5,1,0,0,3,5])\n",
    "    print(construct_position_map2(array))\n",
    "    print(construct_position_map(array))\n",
    "if __name__==\"__main__\":\n",
    "    main()"
   ]
  }
 ],
 "metadata": {
  "kernelspec": {
   "display_name": "Python 3",
   "language": "python",
   "name": "python3"
  },
  "language_info": {
   "codemirror_mode": {
    "name": "ipython",
    "version": 3
   },
   "file_extension": ".py",
   "mimetype": "text/x-python",
   "name": "python",
   "nbconvert_exporter": "python",
   "pygments_lexer": "ipython3",
   "version": "3.11.7"
  }
 },
 "nbformat": 4,
 "nbformat_minor": 2
}
