{
 "cells": [
  {
   "cell_type": "code",
   "execution_count": 2,
   "metadata": {},
   "outputs": [
    {
     "name": "stdout",
     "output_type": "stream",
     "text": [
      "{'morning': [4], 'the': [0, 3, 5], 'green': -1, 'sky': [6]}\n"
     ]
    }
   ],
   "source": [
    "def str_query(d, q):\n",
    "    position_dict = dict()\n",
    "\n",
    "    for i in range(len(d)):\n",
    "        if d[i] in position_dict:\n",
    "            position_dict[d[i]] = [i]\n",
    "        else:\n",
    "            position_dict[d[i]] = [i]\n",
    "\n",
    "    result = {}\n",
    "    for j in q:\n",
    "        if j in position_dict:\n",
    "            result[j] = position_dict[j]\n",
    "        else:\n",
    "            result[j] = [-1]\n",
    "\n",
    "    return result\n",
    "\n",
    "def includes(d, q):\n",
    "    query_dict = {}\n",
    "    for i in range(len(d)):\n",
    "        if d[i] not in query_dict:\n",
    "            query_dict[d[i]] = i\n",
    "\n",
    "    result = {}\n",
    "    for j in q:\n",
    "        if j in query_dict:\n",
    "            result[j] = query_dict[j]\n",
    "        else:\n",
    "            result[j] = -1\n",
    "\n",
    "    return result\n",
    "\n",
    "def str_query2(d, q):\n",
    "    dictionary = dict()\n",
    "    i = 0\n",
    "    for word in d:\n",
    "        if word in dictionary:\n",
    "            word_indice = dictionary[word]\n",
    "            word_indice.append(i)\n",
    "        else:\n",
    "            dictionary[word] = [i]\n",
    "        i += 1\n",
    "\n",
    "    result = {}\n",
    "    for j in q:\n",
    "        if j in dictionary:\n",
    "            result[j] = dictionary[j]\n",
    "        else:\n",
    "            result[j] = -1\n",
    "\n",
    "    return result\n",
    "\n",
    "d = [\"the\", \"evening\", \"and\", \"the\", \"morning\", \"the\", \"sky\", \"is\", \"blue\", \"and\", \"pink\"]\n",
    "q = [\"morning\", \"the\", \"green\", \"sky\"]\n",
    "\n",
    "# Uncomment the function you want to test\n",
    "# print(str_query(d, q))\n",
    "# print(includes(d, q))\n",
    "print(str_query2(d, q))\n"
   ]
  }
 ],
 "metadata": {
  "kernelspec": {
   "display_name": "Python 3",
   "language": "python",
   "name": "python3"
  },
  "language_info": {
   "codemirror_mode": {
    "name": "ipython",
    "version": 3
   },
   "file_extension": ".py",
   "mimetype": "text/x-python",
   "name": "python",
   "nbconvert_exporter": "python",
   "pygments_lexer": "ipython3",
   "version": "3.11.7"
  }
 },
 "nbformat": 4,
 "nbformat_minor": 2
}
