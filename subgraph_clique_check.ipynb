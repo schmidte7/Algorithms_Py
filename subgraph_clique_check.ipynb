{
 "cells": [
  {
   "cell_type": "code",
   "execution_count": 1,
   "metadata": {},
   "outputs": [
    {
     "name": "stdout",
     "output_type": "stream",
     "text": [
      "True\n"
     ]
    }
   ],
   "source": [
    "g = {'a': {'b', 'c', 'd'},\n",
    "     'b': {'a', 'c', 'd', 'f'},\n",
    "     'c': {'a', 'b', 'd'},\n",
    "     'd': {'a', 'b', 'c'},\n",
    "     'e': {'g', 'f'},\n",
    "     'g': {'e', 'f'},\n",
    "     'f': {'e', 'g'}}\n",
    "\n",
    "def is_clique(g: dict, k:set):\n",
    "\n",
    "    for node1 in k: # Iterate through the set (k) below that was an input {'e', 'f', 'g'} Ex. node1 = 'e'\n",
    "        adj_node1 = g[node1] # If 'e' in in g (dict), then grab the values from that key Ex. adj_node 1 = 'g', 'f'\n",
    "        for node2 in k: # Iterate through k with a second node Ex. node2 = 'f' then node2 = 'g'\n",
    "            if node2 not in adj_node1 and node1 != node2: # Ex. If node2 = 'f'/'g' not in adj_node1 (values) and 'e' != 'f'/'g' ????\n",
    "                #print(\"node1:\", node1)\n",
    "                #print(\"node2:\", node2)\n",
    "                return False # Return False since that is not a clique\n",
    "\n",
    "        return True # Return True since that is a clique\n",
    "\n",
    "\n",
    "def main():\n",
    "    print(is_clique(g, {'e', 'f', 'g'}))\n",
    "\n",
    "if __name__ == \"__main__\":\n",
    "    main()"
   ]
  }
 ],
 "metadata": {
  "kernelspec": {
   "display_name": "Python 3",
   "language": "python",
   "name": "python3"
  },
  "language_info": {
   "codemirror_mode": {
    "name": "ipython",
    "version": 3
   },
   "file_extension": ".py",
   "mimetype": "text/x-python",
   "name": "python",
   "nbconvert_exporter": "python",
   "pygments_lexer": "ipython3",
   "version": "3.11.7"
  }
 },
 "nbformat": 4,
 "nbformat_minor": 2
}
