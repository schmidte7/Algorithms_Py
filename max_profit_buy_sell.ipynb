{
 "cells": [
  {
   "cell_type": "code",
   "execution_count": 1,
   "metadata": {},
   "outputs": [
    {
     "name": "stdout",
     "output_type": "stream",
     "text": [
      "(6, 4, 12)\n"
     ]
    }
   ],
   "source": [
    "import numpy\n",
    "\n",
    "# Intuitively, need to buy first then sell\n",
    "# Profit = sell(j) - buy(i)\n",
    "def buy_sell(P):\n",
    "\n",
    "    max_profit = 0 # Set max_profit to 0 as a starting point\n",
    "\n",
    "    for i in range(len(P)): # Iterate through the array with i (0)\n",
    "        for j in range(i+1, len(P)): # Iterate through the array with j (1)\n",
    "            profit = P[j] - P[i] # To obtain profit, need to substract sell - buy\n",
    "            if profit > max_profit: # If the profit exceeds max_profit...\n",
    "                max_profit = profit # Set profit = to max_profit\n",
    "                sell = j # The position of the day to sell\n",
    "                buy = i # The position of the day to buy\n",
    "\n",
    "    return sell, buy, max_profit\n",
    "\n",
    "def main():\n",
    "    P = numpy.array([13, 21, 9, 4, 2, 10, 14, 11, 5, 1, 7])\n",
    "    print(buy_sell(P))\n",
    "\n",
    "if __name__==\"__main__\":\n",
    "    main()"
   ]
  }
 ],
 "metadata": {
  "kernelspec": {
   "display_name": "Python 3",
   "language": "python",
   "name": "python3"
  },
  "language_info": {
   "codemirror_mode": {
    "name": "ipython",
    "version": 3
   },
   "file_extension": ".py",
   "mimetype": "text/x-python",
   "name": "python",
   "nbconvert_exporter": "python",
   "pygments_lexer": "ipython3",
   "version": "3.11.7"
  }
 },
 "nbformat": 4,
 "nbformat_minor": 2
}
