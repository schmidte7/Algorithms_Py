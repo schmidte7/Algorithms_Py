{
 "cells": [
  {
   "cell_type": "code",
   "execution_count": 2,
   "metadata": {},
   "outputs": [
    {
     "name": "stdout",
     "output_type": "stream",
     "text": [
      "1. [12, 10, 8, 6, 4, 2, 1, 3, 5, 7, 9, 11]\n",
      "2. [1, 2, 3, 4, 5, 6, 7, 8, 9]\n",
      "3. [4, 5, 6, 7, 8, 9]\n",
      "4. [3, 3, 1, 2]\n",
      "5. [5, 4, 3, 2, 1]\n",
      "Extra: ['eggs', 'like', 'I']\n",
      "Second position backwards: like\n"
     ]
    }
   ],
   "source": [
    "A = [] # Create an empty list\n",
    "B = [1,2,3,4,5,6,7,8,9,10,11,12]\n",
    "C = [3,5,3,6,7,1,8,2]\n",
    "\n",
    "first_index = 0 # Index for even values in the list\n",
    "last_index = 0 # Index for odd values in the list\n",
    "\n",
    "for e in B: # Iterate through the list B\n",
    "    if e % 2 == 0: # If a number can be divided by 2 with a remainder 0 --> even numebr\n",
    "        A.insert(first_index, e) # Insert the even number always at position 0\n",
    "    else: # If the number has a remainder --> odd number\n",
    "        A.insert(last_index,e) # Insert the odd number at 0, then continue to add to the right\n",
    "    last_index+=1 # Through each loop, add one to the last_index for odd numbers\n",
    "\n",
    "print(\"1.\", A)\n",
    "\n",
    "for e in range(3): # Only look at three values within the range\n",
    "    B.pop(-1) # Start at the end of the list\n",
    "    # B.pop(len(B)-1) # Another way to remove the last three values\n",
    "\n",
    "print(\"2.\", B)\n",
    "\n",
    "for e in range(3): # Only look at three values within the range\n",
    "    B.pop(0) # Start at the beginning of the list\n",
    "\n",
    "print(\"3.\", B)\n",
    "\n",
    "for e in B: # Iterate through B first because you will remove from C\n",
    "    if e in C: # If the element in B is also in C\n",
    "        C.remove(e) # Remove the element in C that also appeared in B\n",
    "\n",
    "print(\"4.\",C)\n",
    "\n",
    "import numpy # File -> Settings -> Project: \"\" -> Python Interpreter\n",
    "\n",
    "T = numpy.array = ([1,2,3,4,5]) # Create an array\n",
    "D = [] # Create another empty list\n",
    "P = [] # Create empty list to test\n",
    "\n",
    "for i in range(len(T)-1,-1,-1): # Iterate through an array backwards starting at last position\n",
    "    e = T[i] # Set the position of T to e to append to another list\n",
    "    D.append(e) # Append e to list D\n",
    "\n",
    "print(\"5.\", D)\n",
    "\n",
    "# Iterate backwards through a list\n",
    "wordList = [\"I\",\"like\",\"eggs\"]\n",
    "for i in range( len(wordList)-1, -1, -1):\n",
    "    e = wordList[i]  # Set the position of T to e to append to another list\n",
    "    P.append(e)  # Append e to list P\n",
    "\n",
    "print(\"Extra:\", P)\n",
    "print(\"Second position backwards:\",P[-2]) # Pulls the second to last value from the end"
   ]
  }
 ],
 "metadata": {
  "kernelspec": {
   "display_name": "Python 3",
   "language": "python",
   "name": "python3"
  },
  "language_info": {
   "codemirror_mode": {
    "name": "ipython",
    "version": 3
   },
   "file_extension": ".py",
   "mimetype": "text/x-python",
   "name": "python",
   "nbconvert_exporter": "python",
   "pygments_lexer": "ipython3",
   "version": "3.11.7"
  }
 },
 "nbformat": 4,
 "nbformat_minor": 2
}
