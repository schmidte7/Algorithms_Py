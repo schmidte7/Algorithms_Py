{
 "cells": [
  {
   "cell_type": "code",
   "execution_count": 3,
   "metadata": {},
   "outputs": [
    {
     "name": "stdout",
     "output_type": "stream",
     "text": [
      "True\n"
     ]
    }
   ],
   "source": [
    "def perfect_number(n):\n",
    "\n",
    "    sum = 0 # Set sum at 0 to add divisor later\n",
    "    d = 1 # The divisor that will divide (n/d)\n",
    "\n",
    "    # The while loop will stop once n and d are equal ( n=6, d=6)\n",
    "    while d < n: # While d is less than n (once they equal - perfect number)\n",
    "        if n % d == 0: # If the remainder is zero (0)\n",
    "            sum+=d # Add d to the sum\n",
    "        d+=1 # Add one to the divisor to check the next number\n",
    "\n",
    "    if sum == n: # If sum and n are equal are some point...\n",
    "        return True # This means the number is perfect\n",
    "    else: # If they do not equal\n",
    "        return False # Return False, not perfect number\n",
    "\n",
    "def main():\n",
    "    n = 6\n",
    "    print(perfect_number(n))\n",
    "\n",
    "if __name__ == \"__main__\":\n",
    "    main()"
   ]
  }
 ],
 "metadata": {
  "kernelspec": {
   "display_name": "Python 3",
   "language": "python",
   "name": "python3"
  },
  "language_info": {
   "codemirror_mode": {
    "name": "ipython",
    "version": 3
   },
   "file_extension": ".py",
   "mimetype": "text/x-python",
   "name": "python",
   "nbconvert_exporter": "python",
   "pygments_lexer": "ipython3",
   "version": "3.11.7"
  }
 },
 "nbformat": 4,
 "nbformat_minor": 2
}
