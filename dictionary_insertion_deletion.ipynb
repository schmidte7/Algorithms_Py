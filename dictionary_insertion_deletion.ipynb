{
 "cells": [
  {
   "cell_type": "code",
   "execution_count": 1,
   "metadata": {},
   "outputs": [
    {
     "name": "stdout",
     "output_type": "stream",
     "text": [
      "{'Michael': 51, 'Chuck': 44}\n",
      "{'John': 33, 'Del': 25}\n"
     ]
    }
   ],
   "source": [
    "A = {\"John\":33,\"Michael\":51,\"Del\":25,\"Chuck\":44}\n",
    "B = {\"Chuck\":44,\"Dan\":73,\"Sean\":54,\"Michael\":51,\"Amy\":42}\n",
    "\n",
    "# Find the intersection or commonalities between the dictionaries\n",
    "intersection_dict = dict() # Create an empty dictionary\n",
    "for keyA, valueA in A.items(): # Iterate through A's keys and values\n",
    "    if keyA in B: # If keyA is in B...\n",
    "        valueB = B[keyA] # Set B's values\n",
    "        if valueA == valueB: # If the two values are equal (since we already checked the keys)\n",
    "            intersection_dict[keyA] = valueA # Add the key and dictionary of A or B into the new dict\n",
    "print(intersection_dict)\n",
    "\n",
    "# Delete common elements between two dictionaries\n",
    "for keyB, valueB in B.items(): # Iterate through B's keys and values since deleting from A\n",
    "    if keyB in A: # If keyB is in A...\n",
    "        valueA = A[keyB] # Set A's values\n",
    "        if valueB == valueA: # If the two values are equal (since we already checked the keys)\n",
    "            del A[keyB]  # Since the keys are the same, use keyB and delete from dictionary A\n",
    "print(A)"
   ]
  }
 ],
 "metadata": {
  "kernelspec": {
   "display_name": "Python 3",
   "language": "python",
   "name": "python3"
  },
  "language_info": {
   "codemirror_mode": {
    "name": "ipython",
    "version": 3
   },
   "file_extension": ".py",
   "mimetype": "text/x-python",
   "name": "python",
   "nbconvert_exporter": "python",
   "pygments_lexer": "ipython3",
   "version": "3.11.7"
  }
 },
 "nbformat": 4,
 "nbformat_minor": 2
}
