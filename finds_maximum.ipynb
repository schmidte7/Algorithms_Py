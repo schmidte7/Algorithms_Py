{
 "cells": [
  {
   "cell_type": "code",
   "execution_count": 1,
   "metadata": {},
   "outputs": [
    {
     "name": "stdout",
     "output_type": "stream",
     "text": [
      "98\n"
     ]
    }
   ],
   "source": [
    "import numpy\n",
    "\n",
    "def maximum(t):\n",
    "    max = t[0] # Set the first position to maximum\n",
    "    for i in range(len(t)): # Iterate through the array\n",
    "        if t[i] > max: # If another array position was larger than before...\n",
    "            max = t[i] # Assign the higher value to max\n",
    "    return max # Return the largest value within the array\n",
    "\n",
    "def main():\n",
    "    t = numpy.array([5,-17,8,98,5,44,3,-98])\n",
    "    print(maximum(t))\n",
    "\n",
    "if __name__ == \"__main__\":\n",
    "    main()"
   ]
  }
 ],
 "metadata": {
  "kernelspec": {
   "display_name": "Python 3",
   "language": "python",
   "name": "python3"
  },
  "language_info": {
   "codemirror_mode": {
    "name": "ipython",
    "version": 3
   },
   "file_extension": ".py",
   "mimetype": "text/x-python",
   "name": "python",
   "nbconvert_exporter": "python",
   "pygments_lexer": "ipython3",
   "version": "3.11.7"
  }
 },
 "nbformat": 4,
 "nbformat_minor": 2
}
