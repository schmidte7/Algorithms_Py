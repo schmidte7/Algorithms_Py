{
 "cells": [
  {
   "cell_type": "code",
   "execution_count": 2,
   "metadata": {},
   "outputs": [
    {
     "name": "stdout",
     "output_type": "stream",
     "text": [
      "Shifted to the right: [5 1 2 3 4]\n",
      "Shifted to the left: [2 3 4 5 1]\n"
     ]
    }
   ],
   "source": [
    "import numpy\n",
    "\n",
    "def shift_to_right(t):\n",
    "    end = len(t) - 1\n",
    "    aux = t[end]\n",
    "    i = end\n",
    "\n",
    "    while i > 0:\n",
    "        t[i] = t[i - 1]\n",
    "        i -= 1\n",
    "    t[0] = aux\n",
    "    return t  # Return the modified array\n",
    "\n",
    "def shift_to_left(s):\n",
    "    start = 0\n",
    "    aux = s[start]\n",
    "    i = start\n",
    "\n",
    "    for i in range(0, len(s) - 1):\n",
    "        s[i] = s[i + 1]\n",
    "        i += 1\n",
    "    s[-1] = aux\n",
    "    return s  # Return the modified array\n",
    "\n",
    "def main():\n",
    "    t = numpy.array([1, 2, 3, 4, 5])\n",
    "    shift_to_right(t)\n",
    "    print(\"Shifted to the right:\", t)\n",
    "\n",
    "    s = numpy.array([1, 2, 3, 4, 5])\n",
    "    shift_to_left(s)\n",
    "    print(\"Shifted to the left:\", s)\n",
    "\n",
    "if __name__ == \"__main__\":\n",
    "    main()"
   ]
  }
 ],
 "metadata": {
  "kernelspec": {
   "display_name": "Python 3",
   "language": "python",
   "name": "python3"
  },
  "language_info": {
   "codemirror_mode": {
    "name": "ipython",
    "version": 3
   },
   "file_extension": ".py",
   "mimetype": "text/x-python",
   "name": "python",
   "nbconvert_exporter": "python",
   "pygments_lexer": "ipython3",
   "version": "3.11.7"
  }
 },
 "nbformat": 4,
 "nbformat_minor": 2
}
