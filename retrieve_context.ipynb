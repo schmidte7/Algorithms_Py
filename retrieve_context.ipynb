{
 "cells": [
  {
   "cell_type": "code",
   "execution_count": 1,
   "metadata": {},
   "outputs": [
    {
     "name": "stdout",
     "output_type": "stream",
     "text": [
      "{'the', 'fun.', 'in', 'cat', 'is'}\n"
     ]
    }
   ],
   "source": [
    "def get_context(t, w):\n",
    "    context = set()\n",
    "    t_lower = []\n",
    "    for i in range(len(t)):\n",
    "      t[i] = t[i].lower()\n",
    "      #t.pop(-1)\n",
    "\n",
    "    for i in range(len(t)):\n",
    "        words = t[i].split()\n",
    "        #print(words)\n",
    "        for j in range(len(words)):\n",
    "            #print(len(words))\n",
    "            if words[j] == w:\n",
    "                for k in range(1, 4):\n",
    "                    if j - k >= 0 and words[j - k] not in context:\n",
    "                        context.add(words[j - k])\n",
    "                    if j + k < len(words) and words[j + k] not in context:\n",
    "                        context.add(words[j + k])\n",
    "    return context\n",
    "\n",
    "t = [\"The cat in the hat.\", \"I saw the cat in the hat.\", \"The cat in the hat is fun.\"]\n",
    "w = \"hat\"\n",
    "print(get_context(t, w))"
   ]
  }
 ],
 "metadata": {
  "kernelspec": {
   "display_name": "Python 3",
   "language": "python",
   "name": "python3"
  },
  "language_info": {
   "codemirror_mode": {
    "name": "ipython",
    "version": 3
   },
   "file_extension": ".py",
   "mimetype": "text/x-python",
   "name": "python",
   "nbconvert_exporter": "python",
   "pygments_lexer": "ipython3",
   "version": "3.11.7"
  }
 },
 "nbformat": 4,
 "nbformat_minor": 2
}
