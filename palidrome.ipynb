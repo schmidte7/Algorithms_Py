{
 "cells": [
  {
   "cell_type": "code",
   "execution_count": 1,
   "metadata": {},
   "outputs": [
    {
     "name": "stdout",
     "output_type": "stream",
     "text": [
      "this string is palindrome\n",
      "True\n",
      "Yes\n"
     ]
    }
   ],
   "source": [
    "def pal(s):\n",
    "    res = True\n",
    "    i = 0 # Start at the beginning of the word\n",
    "    j = len(s)-1 # Start at the end of the word\n",
    "    while i < j and res == True : # Iterate through word while i is less than j (they will pass each other)\n",
    "        if s[i] == s[j]: # If the two letters match...\n",
    "            i+= 1  # Add one to the beginning iterator\n",
    "            j-= 1  # Subtact one from the ending iterator\n",
    "        else: # If the letters are not equal, get out of loop\n",
    "            res = False\n",
    "    return res\n",
    "\n",
    "s=\"coloc\"\n",
    "res=pal(s)\n",
    "if res: # If res = True\n",
    "    print(\"this string is palindrome\")\n",
    "else: # If res = False\n",
    "    print(\"this string isnt palindrome\")\n",
    "\n",
    "def palidrome(S):\n",
    "\n",
    "    i = 0 # Start iterating from the left at position zero (0)\n",
    "    j = len(S)-1 # Start iterating from the right at the end of the word\n",
    "\n",
    "    while i < j: # Alt.  'while i < len(word)-1', iterate through until i >= j\n",
    "        if S[i] == S[j]: # If the two letters are equal...\n",
    "            i+=1 # Increase i by one\n",
    "            j-=1 # Decrease j by one\n",
    "        else:\n",
    "            return False # Return false if one of the letter combos do not match\n",
    "    return True # Return True when i = j because you have gone through the entire string and everything aligns\n",
    "def main():\n",
    "    S = 'COLOC'\n",
    "    print(palidrome(S))\n",
    "\n",
    "if __name__ == \"__main__\":\n",
    "    main()\n",
    "\n",
    "def isPalindrome(s):\n",
    "    return s == s[::-1] # Return the slice of the string that starts at the end and steps backward one element at a time\n",
    "\n",
    "def main():\n",
    "    s = \"kayak\"\n",
    "    ans = isPalindrome(s)\n",
    "\n",
    "    if ans: # If the word forward and backwards matches\n",
    "        print(\"Yes\")\n",
    "    else: # If the words forward and backwards do not match\n",
    "        print(\"No\")\n",
    "\n",
    "if __name__==\"__main__\":\n",
    "    main()\n"
   ]
  }
 ],
 "metadata": {
  "kernelspec": {
   "display_name": "Python 3",
   "language": "python",
   "name": "python3"
  },
  "language_info": {
   "codemirror_mode": {
    "name": "ipython",
    "version": 3
   },
   "file_extension": ".py",
   "mimetype": "text/x-python",
   "name": "python",
   "nbconvert_exporter": "python",
   "pygments_lexer": "ipython3",
   "version": "3.11.7"
  }
 },
 "nbformat": 4,
 "nbformat_minor": 2
}
