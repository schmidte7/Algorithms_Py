{
 "cells": [
  {
   "cell_type": "code",
   "execution_count": 1,
   "metadata": {},
   "outputs": [
    {
     "name": "stdout",
     "output_type": "stream",
     "text": [
      "{'C'}\n"
     ]
    }
   ],
   "source": [
    "import numpy\n",
    "def moreThan3Times(L, k):\n",
    "    dictionary = dict() # Create empty dictionary\n",
    "\n",
    "    for e in L: # Iterate through an array of one character words, no positions\n",
    "        if e in dictionary: # If that element is in the dictionary\n",
    "            dictionary[e] = dictionary[e] + 1 # Add one to the value\n",
    "        else: # If the element is not in the dictionary\n",
    "            dictionary[e] = 1 # Start the value at 1\n",
    "\n",
    "    moreTimes_set = set() # Create empty set\n",
    "    for key, value in dictionary.items(): # Iterate through the dictionary\n",
    "        if value > k: # If the value greater than the specified k\n",
    "            moreTimes_set.add(key) # Adds that key associated with the value to the set (no dupes/order)\n",
    "    return moreTimes_set # Return the set\n",
    "\n",
    "L = numpy.array([\"A\",\"A\",\"B\",\"C\",\"C\",\"C\"])\n",
    "k = 2\n",
    "print(moreThan3Times(L,k))"
   ]
  }
 ],
 "metadata": {
  "kernelspec": {
   "display_name": "Python 3",
   "language": "python",
   "name": "python3"
  },
  "language_info": {
   "codemirror_mode": {
    "name": "ipython",
    "version": 3
   },
   "file_extension": ".py",
   "mimetype": "text/x-python",
   "name": "python",
   "nbconvert_exporter": "python",
   "pygments_lexer": "ipython3",
   "version": "3.11.7"
  }
 },
 "nbformat": 4,
 "nbformat_minor": 2
}
