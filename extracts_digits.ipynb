{
 "cells": [
  {
   "cell_type": "code",
   "execution_count": 4,
   "metadata": {},
   "outputs": [
    {
     "name": "stdout",
     "output_type": "stream",
     "text": [
      "[5, 4, 3, 5, 4, 3]\n"
     ]
    }
   ],
   "source": [
    "def digits(number):\n",
    "\n",
    "    if number < 0: # If the value is less than 0, raise Exception or return False\n",
    "        raise Exception(\"Value is negative. Please reenter.\")\n",
    "    elif number < 10: # If the number is less than 10, do not need to enter loop. Put inside brackets to look like a list\n",
    "        return [number]\n",
    "    else: # If the number isn't negative or less than 10\n",
    "        decimals = [] # Create empty list\n",
    "\n",
    "        while number > 0: # While the number is greater than zero because need to check every value\n",
    "            digits = number % 10 # Assign the remainder of 10 to digits\n",
    "            decimals.append(digits) # Append digits into the created list\n",
    "            number = number//10 # To review the next digit, need to divide by 10\n",
    "        return decimals\n",
    "\n",
    "def main():\n",
    "    number = 345345\n",
    "    print(digits(number))\n",
    "\n",
    "if __name__==\"__main__\":\n",
    "    main()"
   ]
  }
 ],
 "metadata": {
  "kernelspec": {
   "display_name": "Python 3",
   "language": "python",
   "name": "python3"
  },
  "language_info": {
   "codemirror_mode": {
    "name": "ipython",
    "version": 3
   },
   "file_extension": ".py",
   "mimetype": "text/x-python",
   "name": "python",
   "nbconvert_exporter": "python",
   "pygments_lexer": "ipython3",
   "version": "3.11.7"
  }
 },
 "nbformat": 4,
 "nbformat_minor": 2
}
