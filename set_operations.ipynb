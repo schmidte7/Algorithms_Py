{
 "cells": [
  {
   "cell_type": "code",
   "execution_count": 1,
   "metadata": {},
   "outputs": [
    {
     "name": "stdout",
     "output_type": "stream",
     "text": [
      "1. {16.0, 17.5}\n",
      "2. {2, 5, 6, 8, 9, 13, -7}\n",
      "3. {5, -6.7, 30}\n"
     ]
    }
   ],
   "source": [
    "import numpy\n",
    "T = numpy.array([1,17.5,-3,16,7]) # Array\n",
    "S = {37,17.5,4,13,41,16,9} # Set\n",
    "\n",
    "# Find the intersection or commonalities between the array and set\n",
    "result = set() # Create empty set (no order and does not include duplicates)\n",
    "for e in range(len(T)): # Iterate through an array\n",
    "    v = T[e] # Set each position to another value (same as 5.2)\n",
    "    if v in S: # If that value is also in S\n",
    "        result.add(v) # Add that value into the result\n",
    "print(\"1.\", result)\n",
    "\n",
    "A = {-7,5,8,9,13} # Set\n",
    "B = {-7,2,5,6,8,9,13} # Set\n",
    "\n",
    "# Find the union between A and B\n",
    "result = set() # Create empty set (no order and does not include duplicates)\n",
    "for itemA in A:\n",
    "    result.add(itemA)\n",
    "for itemB in B:\n",
    "    result.add(itemB)\n",
    "print(\"2.\", result)\n",
    "\n",
    "C = {-6.7,5,7.1,21.3,30} # Set\n",
    "D = {-7.3, 1.17,3.45,6,7.1,9.3,21.3} # Set\n",
    "\n",
    "# Delete common elements between two sets\n",
    "for itemD in D:\n",
    "    if itemD in C:\n",
    "        C.remove(itemD)\n",
    "\n",
    "print(\"3.\", C)"
   ]
  }
 ],
 "metadata": {
  "kernelspec": {
   "display_name": "Python 3",
   "language": "python",
   "name": "python3"
  },
  "language_info": {
   "codemirror_mode": {
    "name": "ipython",
    "version": 3
   },
   "file_extension": ".py",
   "mimetype": "text/x-python",
   "name": "python",
   "nbconvert_exporter": "python",
   "pygments_lexer": "ipython3",
   "version": "3.11.7"
  }
 },
 "nbformat": 4,
 "nbformat_minor": 2
}
