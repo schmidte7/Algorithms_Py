{
 "cells": [
  {
   "cell_type": "code",
   "execution_count": 3,
   "metadata": {},
   "outputs": [
    {
     "name": "stdout",
     "output_type": "stream",
     "text": [
      "test with text = \"Assignment: draw the scatterplot for the CAT category\" and keywords = ['cat', 'sign', 'on', 'or', 'ass', 'my']\n",
      "{'cat': {41, 45, 22}, 'sign': {2}, 'on': set(), 'or': {34, 50}, 'ass': {0}, 'my': set()}\n",
      "\n"
     ]
    }
   ],
   "source": [
    "def indexing(t: str, ks: list[str]) -> dict[str, list[int]] :\n",
    "    result = {}  # Create an empty dictionary\n",
    "    t_lower = text.lower() # Lowercase all the words for comparison\n",
    "    for k in ks: result[k] = set()  # Iterate through the list, and put values of dictionary to set\n",
    "    for a in range(len(t_lower)):  # Iterate through the length of the text\n",
    "        for k in ks:  # Iterate through the list words again\n",
    "            if a + len(k) < len(t_lower) and k == t_lower[a:a + len(k)]:\n",
    "                # Make sure that the length of k + index a is less than overall t  # Position of text[1 to 1+length of k (4) -> 1:5)\n",
    "                result[k].add(a)  # Add the index to the value (set) in the dictionary\n",
    "    return result\n",
    "\n",
    "def indexing2(t: str, ks: list[str]) -> dict[str, list[int]] :\n",
    "    index = {}  # Create an empty dictionary\n",
    "    text_lower = text.lower() # Lowercase the entire string\n",
    "\n",
    "    for k in ks:\n",
    "        if k not in index:\n",
    "            index[k] = set([])\n",
    "\n",
    "        for a in range(len(t)):  # Iterate through the length of the text\n",
    "            if k == text_lower[a:a + len(k)]:\n",
    "                # Make sure that the length of k + index a is less than overall t  # Position of text[1 to 1+length of k (4) -> 1:5)\n",
    "                index[k].add(a)  # Add the index to the value (set) in the dictionary\n",
    "    return index\n",
    "\n",
    "text = 'Assignment: draw the scatterplot for the CAT category'\n",
    "kwds = [\"cat\", \"sign\", \"on\", \"or\", \"ass\", \"my\"]\n",
    "print(f'test with text = \"{text}\" and keywords = {kwds}')\n",
    "#print(indexing(text, kwds))\n",
    "print(indexing2(text,kwds))\n",
    "print()"
   ]
  }
 ],
 "metadata": {
  "kernelspec": {
   "display_name": "Python 3",
   "language": "python",
   "name": "python3"
  },
  "language_info": {
   "codemirror_mode": {
    "name": "ipython",
    "version": 3
   },
   "file_extension": ".py",
   "mimetype": "text/x-python",
   "name": "python",
   "nbconvert_exporter": "python",
   "pygments_lexer": "ipython3",
   "version": "3.11.7"
  }
 },
 "nbformat": 4,
 "nbformat_minor": 2
}
